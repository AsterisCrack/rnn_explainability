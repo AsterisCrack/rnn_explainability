{
 "cells": [
  {
   "cell_type": "code",
   "execution_count": null,
   "metadata": {},
   "outputs": [],
   "source": [
    "import torch\n",
    "import torch.nn as nn\n",
    "import torch.optim as optim\n",
    "from torchtext import data\n",
    "from torchtext import datasets\n",
    "import shap\n",
    "import matplotlib.pyplot as plt"
   ]
  },
  {
   "cell_type": "code",
   "execution_count": null,
   "metadata": {},
   "outputs": [],
   "source": [
    "# Load the trained model\n",
    "model = torch.load('path_to_your_pretrained_model.pth')\n",
    "model.eval()  # Set the model to evaluation mode\n",
    "\n",
    "# Load your data\n",
    "data = preprocess_data('path_to_your_data.csv')  # Adjust this based on your data loading function\n",
    "\n",
    "# Convert data to PyTorch tensors\n",
    "inputs = torch.tensor(data, dtype=torch.float32)\n",
    "\n",
    "# Initialize the SHAP explainer\n",
    "explainer = shap.DeepExplainer(model, inputs)\n",
    "\n",
    "# Calculate SHAP values\n",
    "shap_values = explainer.shap_values(inputs)\n",
    "\n",
    "# Visualize the SHAP values \n",
    "shap.summary_plot(shap_values, features=inputs, feature_names=['feature1', 'feature2', ...], plot_type='bar')\n"
   ]
  }
 ],
 "metadata": {
  "language_info": {
   "name": "python"
  }
 },
 "nbformat": 4,
 "nbformat_minor": 2
}
