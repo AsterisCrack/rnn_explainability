{
  "cells": [
    {
      "cell_type": "code",
      "execution_count": 1,
      "metadata": {
        "id": "PfXmGvNn2KYY"
      },
      "outputs": [],
      "source": [
        "from typing import Tuple, List, Dict, Any\n",
        "\n",
        "import pandas as pd\n",
        "import random\n",
        "import re\n",
        "\n",
        "import matplotlib.pyplot as plt\n",
        "\n",
        "from gensim.models.keyedvectors import load_word2vec_format\n",
        "\n",
        "import torch\n",
        "import torch.nn as nn\n",
        "import torch.optim as optim\n",
        "from torch.utils.data import Dataset, DataLoader\n",
        "from torch.nn.utils.rnn import pad_sequence\n",
        "SEED = 2222\n",
        "\n",
        "random.seed(SEED)\n",
        "torch.manual_seed(SEED)\n",
        "torch.cuda.manual_seed(SEED)\n",
        "torch.backends.cudnn.deterministic = True"
      ]
    },
    {
      "cell_type": "markdown",
      "metadata": {
        "id": "1tUxuegO_-Z7"
      },
      "source": [
        "# 1 Input representation: pretrained word embeddings\n",
        "\n",
        "To process the tweet inputs and make predictions, your classifiers need a numerical representation of these inputs. In this assignment, you'll use word embeddings to represent the words in the input tweets. We are going to use embeddings from the **word2vec** Google News pretrained model. This is an embedding model that contains 300-dimensional vectors for 3 million words and phrases.\n",
        "\n",
        "We're providing a download link here to the pretrained word embeddings, so you can easily start working with them:"
      ]
    },
    {
      "cell_type": "code",
      "execution_count": 2,
      "metadata": {
        "colab": {
          "base_uri": "https://localhost:8080/"
        },
        "id": "-5NS0UChO4xM",
        "outputId": "65a6c7e9-7b08-45c5-a7c4-629edcb0f56e"
      },
      "outputs": [
        {
          "data": {
            "text/plain": [
              "\"import gdown\\nimport zipfile\\n\\n# Google Drive direct download link\\nurl = 'https://drive.google.com/uc?id=1zQRH1zYBHJ_vU_uMkKvvvwQiZwP5N7wW'\\n\\n# Destination file name\\noutput = 'NLP_DATA.zip'\\n\\n# Download the file\\ngdown.download(url, output, quiet=False)\\n\\n# Unzip the downloaded file\\nwith zipfile.ZipFile(output, 'r') as zip_ref:\\n     zip_ref.extractall('.')\""
            ]
          },
          "execution_count": 2,
          "metadata": {},
          "output_type": "execute_result"
        }
      ],
      "source": [
        "\"\"\"import gdown\n",
        "import zipfile\n",
        "\n",
        "# Google Drive direct download link\n",
        "url = 'https://drive.google.com/uc?id=1zQRH1zYBHJ_vU_uMkKvvvwQiZwP5N7wW'\n",
        "\n",
        "# Destination file name\n",
        "output = 'NLP_DATA.zip'\n",
        "\n",
        "# Download the file\n",
        "gdown.download(url, output, quiet=False)\n",
        "\n",
        "# Unzip the downloaded file\n",
        "with zipfile.ZipFile(output, 'r') as zip_ref:\n",
        "     zip_ref.extractall('.')\"\"\""
      ]
    },
    {
      "cell_type": "code",
      "execution_count": 3,
      "metadata": {
        "id": "VGA0ew1A2KYa"
      },
      "outputs": [],
      "source": [
        "# Load embeddings model to use in the assignment\n",
        "w2v_model = load_word2vec_format(\"./NLP_Data/embeddings/GoogleNews-vectors-negative300.bin.gz\", binary = True)"
      ]
    },
    {
      "cell_type": "markdown",
      "metadata": {
        "id": "mfKpr_7n2KYb"
      },
      "source": [
        "# 3 Preprocessing the data and loading it\n",
        "\n",
        "Now that you feel familiar with how the word2vec model works, let's create some functions that would be in charge of the preprocessing of the data. You are free to perform any operation you feel right to preprocess the data.\n"
      ]
    },
    {
      "cell_type": "markdown",
      "metadata": {
        "id": "AUFPAhrECWRU"
      },
      "source": [
        "## 3.1. Tweet tokenization\n",
        "\n",
        "Let's start with some form of **tokenization** on the tweets. That is, write a tokenizer that, given tweet, splitting the text into words, and performs any text normalization you find suitable.\n",
        "\n",
        "For this, we suggest that you define a function `tokenize_tweet` which takes a sentence as a string, and returns the tokenized sentence.\n"
      ]
    },
    {
      "cell_type": "code",
      "execution_count": 4,
      "metadata": {
        "id": "_xOD-O0uCCRI"
      },
      "outputs": [],
      "source": [
        "def tokenize_tweet(tweet: str) -> List[str]:\n",
        "  \"\"\"\n",
        "    Tokenizes a given tweet by splitting the text into words, and doing any cleaning, replacing or normalization deemed useful\n",
        "\n",
        "    Args:\n",
        "        tweet (str): The tweet text to be tokenized.\n",
        "\n",
        "    Returns:\n",
        "        list[str]: A list of strings, representing the tokenized components of the tweet.\n",
        "  \"\"\"\n",
        "  # TODO: Complete the tokenize_tweet function\n",
        "  # replace the usernas with a specific token\n",
        "  global USR_MENTION_TOKEN\n",
        "  global URL_TOKEN\n",
        "  USR_MENTION_TOKEN = \"<!USR_MENTION>\"\n",
        "  URL_TOKEN = \"<!URL>\"\n",
        "  tweet = re.sub(r'@\\w+', USR_MENTION_TOKEN, tweet)\n",
        "  \n",
        "  # replace the urls with a specific token\n",
        "  tweet = re.sub(r'http\\S+', URL_TOKEN, tweet)\n",
        "  \n",
        "  # remove the hashtags from the tweet\n",
        "  tweet = re.sub(r'#\\w+', '', tweet)\n",
        "  \n",
        "  return tweet.split()"
      ]
    },
    {
      "cell_type": "markdown",
      "metadata": {
        "id": "FsEo3nR_CQUX"
      },
      "source": [
        "## 3.2. Load data for training, validation and test dataset\n",
        "\n",
        "Next, you'll need to load the data, which is placed in the `data` subfolder.\n",
        "\n",
        "Write a `load_data` function that takes a path to one of the data files, such as `/content/NLP_Data/data/train.csv`.\n",
        "\n",
        "Calling load data with that file path should return the tokenized texts and their corresponding labels. Here's how it may look:\n",
        "\n",
        " ```\n",
        "\n",
        " tr_texts, tr_targets = load_data('/content/NLP_Data/data/train.csv')\n",
        "\n",
        " # Checking the first training text and label\n",
        "\n",
        "print(tr_texts[0], tr_targets[0])\n",
        "\n",
        "['YEA', 'now', 'that', 'note', 'GOOD'], 1\n",
        "\n",
        "\n",
        " ```"
      ]
    },
    {
      "cell_type": "code",
      "execution_count": 5,
      "metadata": {
        "id": "F-3txQ652KYc"
      },
      "outputs": [],
      "source": [
        "def load_data(file_path: str) -> Tuple[List[List[str]], List[int]]:\n",
        "    \"\"\"\n",
        "    Load data from a specified file path, extract texts and targets, and tokenize the texts using the tokenize_tweet function.\n",
        "\n",
        "    Parameters:\n",
        "    file_path (str): The path to the dataset file.\n",
        "\n",
        "    Returns:\n",
        "    Tuple[List[str], List[int]]: Lists of texts and corresponding targets.\n",
        "    \"\"\"\n",
        "    try:\n",
        "        # TODO: Read the corresponding csv\n",
        "        data: pd.DataFrame = pd.read_csv(file_path) \n",
        "\n",
        "        # TODO: Obtain the text column from data\n",
        "        texts: List[str] = data['text'].tolist()\n",
        "                \n",
        "        # TODO: Obtain targets, 0 for human and 1 for bot\n",
        "        # replace the target column with a binary representation\n",
        "        data['tag'] = data['account.type'].replace('human', 0)\n",
        "        data['tag'] = data['tag'].replace('bot', 1)\n",
        "        targets: List[int] = data['tag'].tolist()     \n",
        "        \n",
        "        # TODO: Return tokenized texts, and targets\n",
        "        return [tokenize_tweet(text) for text in texts], targets\n",
        "    \n",
        "    except FileNotFoundError:\n",
        "        print(f\"{file_path} not found. Please check the file path.\")\n"
      ]
    },
    {
      "cell_type": "code",
      "execution_count": 6,
      "metadata": {
        "id": "oGQmqB-dPEV2"
      },
      "outputs": [],
      "source": [
        "# Load datasets\n",
        "tr_texts, tr_targets = load_data('./NLP_Data/data/train.csv')\n",
        "vl_texts, vl_targets = load_data('./NLP_Data/data/validation.csv')\n",
        "ts_texts, ts_targets = load_data('./NLP_Data/data/test.csv')"
      ]
    },
    {
      "cell_type": "markdown",
      "metadata": {
        "id": "jeUNm-TK2KYf"
      },
      "source": [
        "## 3.3 Preparing dataset"
      ]
    },
    {
      "cell_type": "markdown",
      "metadata": {
        "id": "hi5w0jbjH46n"
      },
      "source": [
        "Next, put your inputs and targets into a PyTorch `Dataset` object, which we'll use for training.\n",
        "\n",
        "Define a `Dataset` class called `TweepFakeDataset(Dataset)`, which takes the tokenized tweets and labels, that we will later pass to a `DataLoader`."
      ]
    },
    {
      "cell_type": "code",
      "execution_count": 7,
      "metadata": {
        "id": "FAFdlix82KYf"
      },
      "outputs": [],
      "source": [
        "class TweepFakeDataset(Dataset):\n",
        "    \"\"\"\n",
        "    A PyTorch Dataset for the TweepFake dataset.\n",
        "\n",
        "    Attributes:\n",
        "        texts (List[List[str]]): List of tweets tokens.\n",
        "        targets (List[str]): List of target labels.\n",
        "    \"\"\"\n",
        "\n",
        "    def __init__(self,\n",
        "                 texts: List[List[str]],\n",
        "                 targets: List[int]\n",
        "                 ):\n",
        "        \"\"\"\n",
        "        Initializes the TweepFakeDataset with the given file path.\n",
        "\n",
        "        Args:\n",
        "            texts (List[List[str]]): List of tweets tokens.\n",
        "            targets (List[str]): List of target labels.\n",
        "        \"\"\"\n",
        "        # TODO: Complete the init function\n",
        "        # initialise the super class\n",
        "        super().__init__()\n",
        "        self.texts = texts\n",
        "        self.targets = targets\n",
        "        self._len = len(self.texts) \n",
        "\n",
        "    def __len__(self) -> int:\n",
        "        \"\"\"Returns the length of the dataset.\"\"\"\n",
        "        # TODO: Complete the len function\n",
        "        return self._len # VALID IF WE DONT UPDATE THE DATASET, OTHERWISE WOULD NEED TO IMPLEMENT AN _update_len METHOD\n",
        "\n",
        "    def __getitem__(self, idx: int) -> Tuple[torch.Tensor, torch.Tensor]:\n",
        "        \"\"\"\n",
        "        Returns the embedded tensor and target for the text at the specified index.\n",
        "\n",
        "        Args:\n",
        "            idx (int): Index of the item.\n",
        "\n",
        "        Returns:\n",
        "            Tuple[List[str], List[int]]: A tuple containing the BoW vector and the target label.\n",
        "        \"\"\"\n",
        "        # TODO: Complete the getitem function\n",
        "        \n",
        "        return self.texts[idx], self.targets[idx]"
      ]
    },
    {
      "cell_type": "code",
      "execution_count": 8,
      "metadata": {
        "id": "aluVJXwVQH0z"
      },
      "outputs": [],
      "source": [
        "# TODO: Create datasets for models\n",
        "tr_dataset = TweepFakeDataset(tr_texts, tr_targets)\n",
        "vl_dataset = TweepFakeDataset(vl_texts, vl_targets)\n",
        "ts_dataset = TweepFakeDataset(ts_texts, ts_targets)"
      ]
    },
    {
      "cell_type": "markdown",
      "metadata": {
        "id": "bpqH_x5jIpoy"
      },
      "source": [
        "## 3.4 Auxiliary functions\n",
        "\n",
        "In this section, you'll prepare a few auxiliary function which we'll be used for training."
      ]
    },
    {
      "cell_type": "code",
      "execution_count": 9,
      "metadata": {
        "id": "nSrgxs6biV9s"
      },
      "outputs": [],
      "source": [
        "def word2idx(embedding_model: Any, tweet: List[str]) -> torch.Tensor:\n",
        "    \"\"\"\n",
        "    Converts a tweet to a list of word indices based on an embedding model.\n",
        "\n",
        "    This function iterates through each word in the tweet and retrieves its corresponding index\n",
        "    from the embedding model's vocabulary. If a word is not present in the model's vocabulary,\n",
        "    it is skipped.\n",
        "\n",
        "    Args:\n",
        "        embedding_model (Any): The embedding model with a 'key_to_index' attribute, which maps words to their indices.\n",
        "        tweet (List[str]): A list of words representing the tweet.\n",
        "\n",
        "    Returns:\n",
        "        torch.Tensor: A tensor of word indices corresponding to the words in the tweet.\n",
        "    \"\"\"\n",
        "    # TODO: Complete the function according to the requirements\n",
        "    \n",
        "    # get the indices of the words in the tweet\n",
        "    indices = [embedding_model.key_to_index[word] for word in tweet if word in embedding_model.key_to_index]\n",
        "    \n",
        "    return torch.tensor(indices)\n",
        "    \n",
        "    "
      ]
    },
    {
      "cell_type": "markdown",
      "metadata": {
        "id": "dBOoPa4JOKpq"
      },
      "source": [
        "For the following function, you might want to check the [pad_sequence](https://pytorch.org/docs/stable/generated/torch.nn.utils.rnn.pad_sequence.html) function."
      ]
    },
    {
      "cell_type": "code",
      "execution_count": 10,
      "metadata": {
        "id": "_V2_DhrRguZo"
      },
      "outputs": [],
      "source": [
        "from typing import Tuple, List, Dict, Any\n",
        "def collate_fn(batch: List[Tuple[List[str], int]]) -> Tuple[torch.Tensor, torch.Tensor, torch.Tensor]:\n",
        "    \"\"\"\n",
        "    Prepares and returns a batch for training/testing in a torch model.\n",
        "\n",
        "    This function sorts the batch by the length of the text sequences in descending order,\n",
        "    tokenizes the text using a pre-defined word-to-index mapping, pads the sequences to have\n",
        "    uniform length, and converts labels to tensor.\n",
        "\n",
        "    Args:\n",
        "        batch (List[Tuple[List[str], int]]): A list of tuples, where each tuple contains a\n",
        "                                             list of words (representing a text) and an integer label.\n",
        "\n",
        "    Returns:\n",
        "        Tuple[torch.Tensor, torch.Tensor, torch.Tensor]: A tuple containing three elements:\n",
        "            - texts_padded (torch.Tensor): A tensor of padded word indices of the text.\n",
        "            - labels (torch.Tensor): A tensor of labels.\n",
        "            - lengths (torch.Tensor): A tensor representing the lengths of each text sequence.\n",
        "    \"\"\"\n",
        "    # TODO: Sort the batch by the length of text sequences in descending order\n",
        "    \n",
        "    batch = sorted(batch, key=lambda x: len(x[0]), reverse=True)\n",
        "    \n",
        "    # TODO: Unzip texts and labels from the sorted batch\n",
        "    texts: List[str]\n",
        "    labels: List[int]\n",
        "    texts, labels = zip(*batch)\n",
        "    \n",
        "    # convert the elements of the labels list to int\n",
        "    labels = list(labels)\n",
        "    labels = [int(label) for label in labels]\n",
        "    \n",
        "    # TODO: Convert texts to indices using the word2idx function and w2v_model\n",
        "    texts_indx: List[torch.Tensor] = [word2idx(w2v_model, tweet) for tweet in texts]\n",
        "\n",
        "    # TODO: Calculate the lengths of each element of texts_indx.\n",
        "    # The minimum length shall be 1, in order to avoid later problems when training the RNN\n",
        "    lengths: List[torch.Tensor] = [max(len(tweet), 1) for tweet in texts_indx]\n",
        "\n",
        "    # TODO: Pad the text sequences to have uniform length\n",
        "    texts_padded: torch.Tensor = pad_sequence(texts_indx, batch_first=True)\n",
        "\n",
        "    # TODO: Convert labels to tensor\n",
        "    labels: torch.Tensor = torch.tensor(labels)\n",
        "\n",
        "    return texts_padded, labels, lengths"
      ]
    },
    {
      "cell_type": "code",
      "execution_count": 11,
      "metadata": {
        "id": "qj3jWJsM2KYf"
      },
      "outputs": [],
      "source": [
        "def calculate_accuracy(model: torch.nn.Module, dataloader: DataLoader, threshold: float = 0.5, device: str = 'cpu') -> float:\n",
        "    \"\"\"\n",
        "    Calculate the accuracy of a PyTorch model given a DataLoader.\n",
        "\n",
        "    The function moves the model to the specified device, sets it to evaluation mode, and computes\n",
        "    the accuracy by comparing the model's predictions against the true labels. The predictions are\n",
        "    determined based on a specified threshold.\n",
        "\n",
        "    Args:\n",
        "        model (torch.nn.Module): The PyTorch model to evaluate.\n",
        "        dataloader (DataLoader): The DataLoader containing the dataset to evaluate against.\n",
        "        threshold (float, optional): Probability threshold to predict a sample as positive. Defaults to 0.5.\n",
        "        device (str, optional): Device to which the model and data are moved ('cpu' or 'cuda'). Defaults to 'cpu'.\n",
        "\n",
        "    Returns:\n",
        "        float: The accuracy of the model on the given dataset.\n",
        "    \"\"\"\n",
        "    # TODO: Calculate accuracy of a model given a dataloader\n",
        "    accuracy = None\n",
        "    \n",
        "    # move the model to the device\n",
        "    model.to(device)\n",
        "    \n",
        "    # set the model to evaluation mode\n",
        "    model.eval()\n",
        "    \n",
        "    # initialise the number of correct predictions\n",
        "    correct = 0\n",
        "    \n",
        "    # iterate through the dataloader\n",
        "    for texts, labels, lengths in dataloader:\n",
        "        texts, labels = texts.to(device), labels.to(device)\n",
        "        \n",
        "        # get the model's predictions\n",
        "        predictions = model(texts, lengths)\n",
        "        \n",
        "        # convert the predictions to binary\n",
        "        predictions = (predictions > threshold).float()\n",
        "        \n",
        "        # calculate the number of correct predictions\n",
        "        correct += (predictions == labels).sum().item()\n",
        "        \n",
        "    # calculate the accuracy\n",
        "    accuracy = correct / len(dataloader.dataset)\n",
        "    \n",
        "    return accuracy"
      ]
    },
    {
      "cell_type": "markdown",
      "metadata": {
        "id": "ih8hrevN2KYf"
      },
      "source": [
        "# 4 Train loop\n",
        "\n",
        "It's time to define the training loop. You'll end up training three types of models, Logistic Regression, MLP classifier and RNN classifier. However, we want to use the same training loop function for all of them.\n",
        "\n",
        "Let's define a function `train_torch_model` to do so."
      ]
    },
    {
      "cell_type": "code",
      "execution_count": 12,
      "metadata": {
        "id": "qbuv9_8t2KYf"
      },
      "outputs": [],
      "source": [
        "def train_torch_model(model: torch.nn.Module, \n",
        "                        train_dataloader: DataLoader,\n",
        "                        val_dataloader: DataLoader, \n",
        "                        criterion: nn.Module,\n",
        "                        optimizer: optim.Optimizer, \n",
        "                        epochs: int,\n",
        "                        print_every: int, \n",
        "                        patience: int,\n",
        "                        device: str = 'cpu'\n",
        "                    ) -> Tuple[Dict[int, float],Dict[int, float]]:\n",
        "    \"\"\"\n",
        "    Train and validate the logistic regression model.\n",
        "\n",
        "    Args:\n",
        "        model (torch.nn.Module): An instance of the model to be trained.\n",
        "        train_dataloader (DataLoader): DataLoader for the training dataset.\n",
        "        val_dataloader (DataLoader): DataLoader for the validation dataset.\n",
        "        learning_rate (float): The learning rate for the optimizer.\n",
        "        criterion (nn.Module): Loss function to use for training.\n",
        "        optimizer (optim.Optimizer): Optimizer to use for training.\n",
        "        epochs (int): The number of epochs to train the model.\n",
        "        print_every (int): Frequency of epochs to print training and validation loss.\n",
        "        patience (int): The number of epochs to wait for improvement on the validation loss before stopping training early.\n",
        "        device (str): device where to train the model.\n",
        "\n",
        "    Returns:\n",
        "        Tuple[Dict[int, float],Dict[int, float]]: Dictionary of accuracies at each `print_every` interval for the training and validation datasets.\n",
        "    \"\"\"\n",
        "    # TODO: Initialize dictionaries to store training and validation accuracies\n",
        "    train_accuracies: Dict[int, float] = {} # epoch: accuracy\n",
        "    val_accuracies: Dict[int, float] = {} # epoch: accuracy\n",
        "\n",
        "    # TODO: Initialize variables for Early Stopping\n",
        "    best_loss: float = float('inf')\n",
        "    epochs_no_improve: int = 0\n",
        "\n",
        "\n",
        "    # TODO: Move the model to the specified device (CPU or GPU)\n",
        "    model.to(device)\n",
        "\n",
        "\n",
        "    # TODO: Implement the training loop over the specified number of epochs\n",
        "    for epoch in range(epochs):\n",
        "        # TODO: Set the model to training mode\n",
        "        model.train()\n",
        "        \n",
        "        total_loss: float = 0.0\n",
        "\n",
        "        # TODO: Implement the loop for training over each batch in the training dataloader\n",
        "        for features, labels, text_len in train_dataloader:\n",
        "            \n",
        "            # TODO: Move features and labels to the specified device\n",
        "            features, labels = features.to(device), labels.to(device)\n",
        "\n",
        "            # TODO: Clear the gradients\n",
        "            optimizer.zero_grad()\n",
        "\n",
        "            # TODO: Forward pass (compute the model output)\n",
        "            output = model(features, text_len)\n",
        "\n",
        "            # TODO: Compute the loss\n",
        "            # cast labels to float to avoid a data type mismatch error\n",
        "            loss = criterion(output, labels.float())\n",
        "\n",
        "            # TODO: Backward pass (compute the gradients)\n",
        "            loss.backward()\n",
        "\n",
        "            # TODO: Update model parameters\n",
        "            optimizer.step()\n",
        "\n",
        "            # TODO: Accumulate the loss\n",
        "            total_loss += loss.item()\n",
        "\n",
        "\n",
        "        # TODO: Implement the evaluation phase\n",
        "        model.eval()\n",
        "        val_loss: float = 0.0\n",
        "        \n",
        "        with torch.no_grad():\n",
        "            # TODO: Loop over the validation dataloader\n",
        "            for features, labels, text_len in val_dataloader:\n",
        "                \n",
        "                # TODO: Move features and labels to the specified device\n",
        "                features, labels = features.to(device), labels.to(device)\n",
        "\n",
        "                # TODO: Forward pass (compute the model output)\n",
        "                output = model(features, text_len)\n",
        "\n",
        "                # TODO: Compute the loss\n",
        "                loss = criterion(output, labels.float())\n",
        "\n",
        "                # TODO: Accumulate validation loss\n",
        "                val_loss += loss.item()\n",
        "\n",
        "\n",
        "        # TODO: Calculate training and validation accuracy\n",
        "        train_accuracy = calculate_accuracy(model, train_dataloader, device=device)\n",
        "        val_accuracy = calculate_accuracy(model, val_dataloader, device=device)\n",
        "\n",
        "        # TODO: Store accuracies\n",
        "        train_accuracies[epoch] = train_accuracy\n",
        "        val_accuracies[epoch] = val_accuracy\n",
        "        \n",
        "        # TODO: Print training and validation results every 'print_every' epochs\n",
        "        if epoch % print_every == 0 or epoch == epochs - 1:\n",
        "            # TODO: Calculate and print average losses and accuracies\n",
        "            avg_train_loss = total_loss / len(train_dataloader)\n",
        "            avg_val_loss = val_loss / len(val_dataloader)\n",
        "            print(f\"Epoch {epoch} -> \\\n",
        "                    Train Loss: {avg_train_loss:.4f}, \\\n",
        "                    Val Loss: {avg_val_loss:.4f}, \\\n",
        "                    Train Acc: {train_accuracy:.4f}, \\\n",
        "                    Val Acc: {val_accuracy:.4f}\")\n",
        "\n",
        "        # TODO: Implement Early Stopping\n",
        "        if val_loss < best_loss:\n",
        "            best_loss = val_loss\n",
        "            epochs_no_improve = 0\n",
        "        else:\n",
        "            epochs_no_improve += 1\n",
        "            if epochs_no_improve == patience:\n",
        "                print(f\"Early stopping at epoch {epoch}\")\n",
        "                break\n",
        "            \n",
        "        \n",
        "\n",
        "    return train_accuracies, val_accuracies"
      ]
    },
    {
      "cell_type": "markdown",
      "metadata": {
        "id": "rQNxgdmXKVJP"
      },
      "source": [
        "# 5 Models\n",
        "\n",
        "All model will use the embeddings from the `word2vec` model as their first layer, to translate the indexes prepared by the `collate_fn` function to their corresponding embedding vectors. Therefore, the first thing we should do is to extract the embedding layer from the `vectors` attribute of the `word2vec` model."
      ]
    },
    {
      "cell_type": "code",
      "execution_count": 13,
      "metadata": {
        "id": "kmDi3YB5tWfr"
      },
      "outputs": [],
      "source": [
        "# TODO: Obtain embedding weights\n",
        "embedding_weights = torch.FloatTensor(w2v_model.vectors)"
      ]
    },
    {
      "cell_type": "markdown",
      "metadata": {
        "id": "WIeQOdy83Bnu"
      },
      "source": [
        "## 5.2. Recurrent models: LSTM Classifier"
      ]
    },
    {
      "cell_type": "markdown",
      "metadata": {
        "id": "yuxpe6QQSVHA"
      },
      "source": [
        "Before diving into the definition of this model, check this [tutorial](https://gist.github.com/HarshTrivedi/f4e7293e941b17d19058f6fb90ab0fec) and make sure you understand all the steps there. You will have to use the [pack_padded_sequence](https://pytorch.org/docs/stable/generated/torch.nn.utils.rnn.pack_padded_sequence.html) in order to be able to handle the padded embeddings.\n"
      ]
    },
    {
      "cell_type": "markdown",
      "metadata": {
        "id": "sovGqEOy2KYm"
      },
      "source": [
        "### 5.2.1 Define the model\n"
      ]
    },
    {
      "cell_type": "code",
      "execution_count": 14,
      "metadata": {
        "id": "JIdyICvMnOb_"
      },
      "outputs": [],
      "source": [
        "class RNN(nn.Module):\n",
        "    \"\"\"\n",
        "    A Recurrent Neural Network (RNN) model implemented using PyTorch for text classification.\n",
        "\n",
        "    This model utilizes an embedding layer with pre-trained weights, followed by an LSTM layer\n",
        "    for processing sequential data, and a linear layer for classification.\n",
        "\n",
        "    Attributes:\n",
        "        embedding (nn.Embedding): Embedding layer initialized with pre-trained weights.\n",
        "        rnn (nn.LSTM): LSTM (Long Short Term Memory) layer for processing sequential data.\n",
        "        fc (nn.Linear): Linear layer for classification.\n",
        "\n",
        "    Args:\n",
        "        embedding_weights (torch.Tensor): Pre-trained word embeddings.\n",
        "        hidden_dim (int): The number of features in the hidden state of the LSTM.\n",
        "        num_layers (int): The number of layers in the LSTM.\n",
        "    \"\"\"\n",
        "\n",
        "    def __init__(self, embedding_weights: torch.Tensor, hidden_dim: int, num_layers: int):\n",
        "        \"\"\"\n",
        "        Initializes the RNN model with given embedding weights, hidden dimension, and number of layers.\n",
        "\n",
        "        Args:\n",
        "            embedding_weights (torch.Tensor): The pre-trained embedding weights to be used in the embedding layer.\n",
        "            hidden_dim (int): The size of the hidden state in the LSTM layer.\n",
        "            num_layers (int): The number of layers in the LSTM.\n",
        "        \"\"\"\n",
        "        super().__init__()\n",
        "        # TODO: Determine the embedding dimension from the embedding weights\n",
        "        embedding_dim: int = embedding_weights.shape[1]\n",
        "\n",
        "        # TODO: Create an embedding layer with the given pre-trained weights, use the Embedding.from_pretrained function\n",
        "        self.embedding: nn.Embedding = nn.Embedding.from_pretrained(embedding_weights)\n",
        "\n",
        "        # TODO: Initialize the LSTM layer\n",
        "        self.rnn: nn.RNN = nn.RNN(embedding_dim, hidden_dim, num_layers, batch_first=True)\n",
        "\n",
        "        # TODO: Create a linear layer for classification\n",
        "        self.fc: nn.Linear = nn.Linear(hidden_dim, 1)\n",
        "\n",
        "    def forward(self, x: torch.Tensor, text_lengths: torch.Tensor) -> torch.Tensor:\n",
        "        \"\"\"\n",
        "        Defines the forward pass of the RNN model.\n",
        "\n",
        "        Args:\n",
        "            x (torch.Tensor): The input tensor containing word indices.\n",
        "            text_lengths (torch.Tensor): Tensor containing the lengths of texts in the batch.\n",
        "\n",
        "        Returns:\n",
        "            torch.Tensor: The output tensor after passing through the model.\n",
        "        \"\"\"\n",
        "        # TODO: Embed the input text using the embedding layer\n",
        "        embedded: torch.Tensor = self.embedding(x)\n",
        "\n",
        "        # TODO: Pack the embedded text for efficient processing in the RNN\n",
        "        packed_embedded: torch.nn.utils.rnn.PackedSequence = nn.utils.rnn.pack_padded_sequence(embedded, text_lengths, batch_first=True, enforce_sorted=False)\n",
        "\n",
        "        # TODO: Pass the packed sequence through the RNN\n",
        "        packed_output, hidden = self.rnn(packed_embedded)\n",
        "\n",
        "        # TODO: Use the last hidden state for classification\n",
        "        hidden: torch.Tensor = hidden[-1]\n",
        "\n",
        "        # TODO: Return the final output after passing it through the linear layer\n",
        "        return self.fc(hidden).squeeze(1)"
      ]
    },
    {
      "cell_type": "markdown",
      "metadata": {
        "id": "4q6NGL26TOQu"
      },
      "source": [
        "### 5.2.2 Load the data"
      ]
    },
    {
      "cell_type": "code",
      "execution_count": 15,
      "metadata": {
        "id": "_EOQt9JA2KYn"
      },
      "outputs": [
        {
          "name": "stdout",
          "output_type": "stream",
          "text": [
            "Training on cuda\n"
          ]
        }
      ],
      "source": [
        "# TODO: Define configuration for MLP Classifier training\n",
        "batch_size: int = 64\n",
        "epochs: int = 40\n",
        "print_every: int = 5\n",
        "patience: int = 20\n",
        "learning_rate: float = 1e-4\n",
        "hidden_dim: int = 256\n",
        "num_layers: int = 2\n",
        "\n",
        "\"\"\"\n",
        "#! CURRENT BEST MODEL:\n",
        "    hidden_dim: int = 256\n",
        "    batch_size: int = 64\n",
        "    epochs: int = 40\n",
        "    print_every: int = 5\n",
        "    patience: int = 20\n",
        "    learning_rate: float = 1e-4\n",
        "    hidden_dim: int = 256\n",
        "    num_layers: int = 2\n",
        "\"\"\"\n",
        "\n",
        "# TODO: Check if GPU is available and move the model to GPU\n",
        "device = 'cuda' if torch.cuda.is_available() else 'cpu'\n",
        "print(f\"Training on {device}\")"
      ]
    },
    {
      "cell_type": "code",
      "execution_count": 16,
      "metadata": {
        "id": "8XIu75O2Jrs0"
      },
      "outputs": [],
      "source": [
        "# TODO: Create data loaders with specified batch_size, shuffle the training dataloader\n",
        "rnn_train_dataloader: DataLoader = DataLoader(tr_dataset, batch_size=batch_size, shuffle=True, collate_fn=collate_fn)\n",
        "rnn_val_dataloader: DataLoader = DataLoader(vl_dataset, batch_size=batch_size, collate_fn=collate_fn)\n",
        "rnn_test_dataloader: DataLoader = DataLoader(ts_dataset, batch_size=batch_size, collate_fn=collate_fn)"
      ]
    },
    {
      "cell_type": "code",
      "execution_count": 17,
      "metadata": {
        "id": "VT5KAQKi2KYn"
      },
      "outputs": [],
      "source": [
        "# TODO: Instantiate the RNN classifier model\n",
        "rnn_model: RNN = RNN(embedding_weights, hidden_dim, num_layers)"
      ]
    },
    {
      "cell_type": "code",
      "execution_count": 18,
      "metadata": {
        "id": "1dje_C-a2KYn"
      },
      "outputs": [],
      "source": [
        "# TODO: Define suitable loss criterion and optimizer\n",
        "rnn_criterion = nn.BCEWithLogitsLoss()\n",
        "rnn_optimizer = optim.Adam(rnn_model.parameters(), lr=learning_rate)"
      ]
    },
    {
      "cell_type": "markdown",
      "metadata": {
        "id": "eBwjQGhpTSqD"
      },
      "source": [
        "### 5.2.3 Train the model and plot the accuracies"
      ]
    },
    {
      "cell_type": "code",
      "execution_count": 19,
      "metadata": {
        "id": "3lQ20IXmqc3K"
      },
      "outputs": [
        {
          "name": "stdout",
          "output_type": "stream",
          "text": [
            "Epoch 0 ->                     Train Loss: 0.6411,                     Val Loss: 0.5928,                     Train Acc: 0.6624,                     Val Acc: 0.6503\n",
            "Epoch 5 ->                     Train Loss: 0.5395,                     Val Loss: 0.5824,                     Train Acc: 0.7233,                     Val Acc: 0.6772\n",
            "Epoch 10 ->                     Train Loss: 0.5081,                     Val Loss: 0.5837,                     Train Acc: 0.7354,                     Val Acc: 0.6612\n",
            "Epoch 15 ->                     Train Loss: 0.4801,                     Val Loss: 0.6046,                     Train Acc: 0.7651,                     Val Acc: 0.6785\n",
            "Epoch 20 ->                     Train Loss: 0.4561,                     Val Loss: 0.6154,                     Train Acc: 0.7848,                     Val Acc: 0.6716\n",
            "Early stopping at epoch 21\n"
          ]
        }
      ],
      "source": [
        "# TODO: Train RNN classifier model\n",
        "rnn_train_accuracies, rnn_val_accuracies = train_torch_model(rnn_model, rnn_train_dataloader,\n",
        "                                                             rnn_val_dataloader, rnn_criterion,\n",
        "                                                             rnn_optimizer, epochs, print_every,\n",
        "                                                             patience=patience, device=device)"
      ]
    },
    {
      "cell_type": "code",
      "execution_count": 20,
      "metadata": {
        "id": "pfs1sMor2KYn"
      },
      "outputs": [
        {
          "name": "stdout",
          "output_type": "stream",
          "text": [
            "RNN Model - Training Accuracy: 0.7867419853225184\n",
            "RNN Model - Validation Accuracy: 0.6689834926151172\n",
            "RNN Model - Test Accuracy: 0.6606724003127443\n"
          ]
        }
      ],
      "source": [
        "# TODO: Print accuracy for training, validation and test datasets\n",
        "rnn_accuracy_train = calculate_accuracy(rnn_model, rnn_train_dataloader, device=device)\n",
        "rnn_accuracy_val = calculate_accuracy(rnn_model, rnn_val_dataloader, device=device)\n",
        "rnn_accuracy_test = calculate_accuracy(rnn_model, rnn_test_dataloader, device=device)\n",
        "\n",
        "print(f\"RNN Model - Training Accuracy: {rnn_accuracy_train}\")\n",
        "print(f\"RNN Model - Validation Accuracy: {rnn_accuracy_val}\")\n",
        "print(f\"RNN Model - Test Accuracy: {rnn_accuracy_test}\")"
      ]
    },
    {
      "cell_type": "code",
      "execution_count": 21,
      "metadata": {},
      "outputs": [
        {
          "data": {
            "text/plain": [
              "{0: 0.662369640787949,\n",
              " 1: 0.6799439938200077,\n",
              " 2: 0.6933661645422943,\n",
              " 3: 0.66039011201236,\n",
              " 4: 0.7123406720741599,\n",
              " 5: 0.7232522209347239,\n",
              " 6: 0.7214658169177288,\n",
              " 7: 0.7227211278485902,\n",
              " 8: 0.7250869061413673,\n",
              " 9: 0.7317014291232136,\n",
              " 10: 0.7353707995365005,\n",
              " 11: 0.7379297025878717,\n",
              " 12: 0.7413576670529162,\n",
              " 13: 0.7221900347624566,\n",
              " 14: 0.7366743916570104,\n",
              " 15: 0.765063731170336,\n",
              " 16: 0.7421301660872924,\n",
              " 17: 0.7591734260332175,\n",
              " 18: 0.7681537273078408,\n",
              " 19: 0.7738991888760139,\n",
              " 20: 0.7847624565469293,\n",
              " 21: 0.7867419853225184}"
            ]
          },
          "execution_count": 21,
          "metadata": {},
          "output_type": "execute_result"
        }
      ],
      "source": [
        "rnn_train_accuracies"
      ]
    },
    {
      "cell_type": "code",
      "execution_count": 22,
      "metadata": {
        "id": "6JfqpsHI2KYn"
      },
      "outputs": [],
      "source": [
        "# Obtain epochs where accuracy was calculated in order to plot them\n",
        "rnn_epochs, rnn_train_accuracies = zip(*sorted(rnn_train_accuracies.items()))\n",
        "_, rnn_val_accuracies = zip(*sorted(rnn_val_accuracies.items()))"
      ]
    },
    {
      "cell_type": "code",
      "execution_count": 23,
      "metadata": {
        "id": "dLLomuwc2KYn"
      },
      "outputs": [
        {
          "data": {
            "image/png": "[encoded data removed]",
            "text/plain": [
              "<Figure size 640x480 with 1 Axes>"
            ]
          },
          "metadata": {},
          "output_type": "display_data"
        }
      ],
      "source": [
        "# Plot the evolution during training\n",
        "plt.plot(rnn_epochs, rnn_train_accuracies, label='RNN Train', linestyle='-', color='blue')\n",
        "plt.plot(rnn_epochs, rnn_val_accuracies, label='RNN Validation', linestyle='--', color='blue')\n",
        "plt.axhline(y=rnn_accuracy_test, label='RNN Test', linestyle='-.', color='lightblue', alpha=0.5)\n",
        "plt.suptitle('Recurrent Neural Network model Accuracy Evolution')\n",
        "plt.xlabel('Epochs')\n",
        "plt.ylabel('Accuracy')\n",
        "plt.legend()\n",
        "plt.show()"
      ]
    },
    {
      "cell_type": "code",
      "execution_count": 24,
      "metadata": {},
      "outputs": [],
      "source": [
        "import os\n",
        "from torch.jit import RecursiveScriptModule\n",
        "\n",
        "def save_model(model: torch.nn.Module, name: str) -> None:\n",
        "    \"\"\"\n",
        "    This function saves a model in the 'models' folder as a torch.jit.\n",
        "    It should create the 'models' if it doesn't already exist.\n",
        "\n",
        "    Args:\n",
        "        model: pytorch model.\n",
        "        name: name of the model (without the extension, e.g. name.pt).\n",
        "    \"\"\"\n",
        "\n",
        "    # create folder if it does not exist\n",
        "    if not os.path.isdir(\"models\"):\n",
        "        os.makedirs(\"models\")\n",
        "\n",
        "    # save scripted model\n",
        "    model_scripted: RecursiveScriptModule = torch.jit.script(model.cpu())\n",
        "    model_scripted.save(f\"models/{name}.pt\")\n",
        "\n",
        "    return None"
      ]
    },
    {
      "cell_type": "code",
      "execution_count": 25,
      "metadata": {},
      "outputs": [],
      "source": [
        "# model name\n",
        "model_name = model_name = f\"rnn_hidden_{hidden_dim}_lr_{learning_rate}_epochs_{epochs}\" + \\\n",
        "    f\"_batch_{batch_size}_patience_{patience}_layers_{num_layers}\"\n",
        "    \n",
        "# save the model\n",
        "save_model(rnn_model, model_name)\n"
      ]
    }
  ],
  "metadata": {
    "colab": {
      "provenance": [],
      "toc_visible": true
    },
    "kernelspec": {
      "display_name": "Python 3",
      "name": "python3"
    },
    "language_info": {
      "codemirror_mode": {
        "name": "ipython",
        "version": 3
      },
      "file_extension": ".py",
      "mimetype": "text/x-python",
      "name": "python",
      "nbconvert_exporter": "python",
      "pygments_lexer": "ipython3",
      "version": "3.9.13"
    }
  },
  "nbformat": 4,
  "nbformat_minor": 0
}
