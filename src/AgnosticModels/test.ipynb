{
 "cells": [
  {
   "cell_type": "code",
   "execution_count": 1,
   "metadata": {},
   "outputs": [
    {
     "name": "stderr",
     "output_type": "stream",
     "text": [
      "c:\\Users\\pablo\\Desktop\\IMAT\\Tercero\\NaturalLanguageProcessing\\rnn_explainability\\env\\lib\\site-packages\\tqdm\\auto.py:21: TqdmWarning: IProgress not found. Please update jupyter and ipywidgets. See https://ipywidgets.readthedocs.io/en/stable/user_install.html\n",
      "  from .autonotebook import tqdm as notebook_tqdm\n"
     ]
    }
   ],
   "source": [
    "import datasets\n",
    "import numpy as np\n",
    "import transformers\n",
    "\n",
    "import shap"
   ]
  },
  {
   "cell_type": "code",
   "execution_count": 2,
   "metadata": {},
   "outputs": [],
   "source": [
    "dataset = datasets.load_dataset(\"imdb\", split=\"test\")\n",
    "\n",
    "# shorten the strings to fit into the pipeline model\n",
    "short_data = [v[:500] for v in dataset[\"text\"][:20]]"
   ]
  },
  {
   "cell_type": "code",
   "execution_count": 3,
   "metadata": {},
   "outputs": [
    {
     "name": "stderr",
     "output_type": "stream",
     "text": [
      "No model was supplied, defaulted to distilbert/distilbert-base-uncased-finetuned-sst-2-english and revision af0f99b (https://huggingface.co/distilbert/distilbert-base-uncased-finetuned-sst-2-english).\n",
      "Using a pipeline without specifying a model name and revision in production is not recommended.\n",
      "c:\\Users\\pablo\\Desktop\\IMAT\\Tercero\\NaturalLanguageProcessing\\rnn_explainability\\env\\lib\\site-packages\\transformers\\pipelines\\text_classification.py:104: UserWarning: `return_all_scores` is now deprecated,  if want a similar functionality use `top_k=None` instead of `return_all_scores=True` or `top_k=1` instead of `return_all_scores=False`.\n",
      "  warnings.warn(\n"
     ]
    },
    {
     "data": {
      "text/plain": [
       "[[{'label': 'NEGATIVE', 'score': 0.0758194774389267},\n",
       "  {'label': 'POSITIVE', 'score': 0.9241805076599121}],\n",
       " [{'label': 'NEGATIVE', 'score': 0.01834256388247013},\n",
       "  {'label': 'POSITIVE', 'score': 0.9816573858261108}]]"
      ]
     },
     "execution_count": 3,
     "metadata": {},
     "output_type": "execute_result"
    }
   ],
   "source": [
    "classifier = transformers.pipeline(\"sentiment-analysis\", return_all_scores=True)\n",
    "classifier(short_data[:2])"
   ]
  },
  {
   "cell_type": "code",
   "execution_count": 4,
   "metadata": {},
   "outputs": [
    {
     "name": "stdout",
     "output_type": "stream",
     "text": [
      "False\n"
     ]
    }
   ],
   "source": [
    "tokenizer = classifier.tokenizer\n",
    "#See if tokenizer has attribute 'shape'\n",
    "print(hasattr(tokenizer, 'shape'))"
   ]
  },
  {
   "cell_type": "code",
   "execution_count": 5,
   "metadata": {},
   "outputs": [
    {
     "name": "stdout",
     "output_type": "stream",
     "text": [
      "args (\"I love sci-fi and am willing to put up with a lot. Sci-fi movies/TV are usually underfunded, under-appreciated and misunderstood. I tried to like this, I really did, but it is to good TV sci-fi as Babylon 5 is to Star Trek (the original). Silly prosthetics, cheap cardboard sets, stilted dialogues, CG that doesn't match the background, and painfully one-dimensional characters cannot be overcome with a 'sci-fi' setting. (I'm sure there are those of you out there who think Babylon 5 is good sci-fi \",)\n",
      "masker.shape <bound method Text.shape of <shap.maskers._text.Text object at 0x000002DB01BE2250>>\n",
      "callable\n",
      "mshape (1, 129)\n"
     ]
    },
    {
     "name": "stderr",
     "output_type": "stream",
     "text": [
      "PartitionExplainer explainer:  50%|█████     | 1/2 [00:00<?, ?it/s]"
     ]
    },
    {
     "name": "stdout",
     "output_type": "stream",
     "text": [
      "args (\"Worth the entertainment value of a rental, especially if you like action movies. This one features the usual car chases, fights with the great Van Damme kick style, shooting battles with the 40 shell load shotgun, and even terrorist style bombs. All of this is entertaining and competently handled but there is nothing that really blows you away if you've seen your share before.<br /><br />The plot is made interesting by the inclusion of a rabbit, which is clever but hardly profound. Many of the c\",)\n",
      "masker.shape <bound method Text.shape of <shap.maskers._text.Text object at 0x000002DB01BE2250>>\n",
      "callable\n",
      "mshape (1, 108)\n"
     ]
    },
    {
     "name": "stderr",
     "output_type": "stream",
     "text": []
    }
   ],
   "source": [
    "# define the explainer\n",
    "explainer = shap.Explainer(classifier)\n",
    "# explain the predictions of the pipeline on the first two samples\n",
    "shap_values = explainer(short_data[:2])"
   ]
  },
  {
   "cell_type": "code",
   "execution_count": null,
   "metadata": {},
   "outputs": [
    {
     "ename": "ValueError",
     "evalue": "setting an array element with a sequence. The requested array has an inhomogeneous shape after 1 dimensions. The detected shape was (2,) + inhomogeneous part.",
     "output_type": "error",
     "traceback": [
      "\u001b[1;31m---------------------------------------------------------------------------\u001b[0m",
      "\u001b[1;31mValueError\u001b[0m                                Traceback (most recent call last)",
      "Cell \u001b[1;32mIn[5], line 1\u001b[0m\n\u001b[1;32m----> 1\u001b[0m shap\u001b[38;5;241m.\u001b[39mplots\u001b[38;5;241m.\u001b[39mtext(\u001b[43mshap_values\u001b[49m\u001b[43m[\u001b[49m\u001b[43m:\u001b[49m\u001b[43m,\u001b[49m\u001b[43m \u001b[49m\u001b[43m:\u001b[49m\u001b[43m,\u001b[49m\u001b[43m \u001b[49m\u001b[38;5;124;43m\"\u001b[39;49m\u001b[38;5;124;43mPOSITIVE\u001b[39;49m\u001b[38;5;124;43m\"\u001b[39;49m\u001b[43m]\u001b[49m)\n",
      "File \u001b[1;32mc:\\Users\\pablo\\Desktop\\IMAT\\Tercero\\NaturalLanguageProcessing\\rnn_explainability\\env\\lib\\site-packages\\shap\\_explanation.py:391\u001b[0m, in \u001b[0;36mExplanation.__getitem__\u001b[1;34m(self, item)\u001b[0m\n\u001b[0;32m    389\u001b[0m \u001b[38;5;28;01mif\u001b[39;00m new_self \u001b[38;5;129;01mis\u001b[39;00m \u001b[38;5;28;01mNone\u001b[39;00m:\n\u001b[0;32m    390\u001b[0m     new_self \u001b[38;5;241m=\u001b[39m copy\u001b[38;5;241m.\u001b[39mcopy(\u001b[38;5;28mself\u001b[39m)\n\u001b[1;32m--> 391\u001b[0m new_self\u001b[38;5;241m.\u001b[39m_s \u001b[38;5;241m=\u001b[39m \u001b[43mnew_self\u001b[49m\u001b[38;5;241;43m.\u001b[39;49m\u001b[43m_s\u001b[49m\u001b[38;5;241;43m.\u001b[39;49m\u001b[38;5;21;43m__getitem__\u001b[39;49m\u001b[43m(\u001b[49m\u001b[43mitem\u001b[49m\u001b[43m)\u001b[49m\n\u001b[0;32m    392\u001b[0m new_self\u001b[38;5;241m.\u001b[39mop_history\u001b[38;5;241m.\u001b[39mappend({\n\u001b[0;32m    393\u001b[0m     \u001b[38;5;124m\"\u001b[39m\u001b[38;5;124mname\u001b[39m\u001b[38;5;124m\"\u001b[39m: \u001b[38;5;124m\"\u001b[39m\u001b[38;5;124m__getitem__\u001b[39m\u001b[38;5;124m\"\u001b[39m,\n\u001b[0;32m    394\u001b[0m     \u001b[38;5;124m\"\u001b[39m\u001b[38;5;124margs\u001b[39m\u001b[38;5;124m\"\u001b[39m: (item,),\n\u001b[0;32m    395\u001b[0m     \u001b[38;5;124m\"\u001b[39m\u001b[38;5;124mprev_shape\u001b[39m\u001b[38;5;124m\"\u001b[39m: \u001b[38;5;28mself\u001b[39m\u001b[38;5;241m.\u001b[39mshape\n\u001b[0;32m    396\u001b[0m })\n\u001b[0;32m    398\u001b[0m \u001b[38;5;28;01mreturn\u001b[39;00m new_self\n",
      "File \u001b[1;32mc:\\Users\\pablo\\Desktop\\IMAT\\Tercero\\NaturalLanguageProcessing\\rnn_explainability\\env\\lib\\site-packages\\slicer\\slicer.py:112\u001b[0m, in \u001b[0;36mSlicer.__getitem__\u001b[1;34m(self, item)\u001b[0m\n\u001b[0;32m    110\u001b[0m index_slicer \u001b[38;5;241m=\u001b[39m AtomicSlicer(index_tup, max_dim\u001b[38;5;241m=\u001b[39m\u001b[38;5;241m1\u001b[39m)\n\u001b[0;32m    111\u001b[0m slicer_index \u001b[38;5;241m=\u001b[39m index_slicer[tracked\u001b[38;5;241m.\u001b[39mdim]\n\u001b[1;32m--> 112\u001b[0m sliced_o \u001b[38;5;241m=\u001b[39m \u001b[43mtracked\u001b[49m\u001b[43m[\u001b[49m\u001b[43mslicer_index\u001b[49m\u001b[43m]\u001b[49m\n\u001b[0;32m    113\u001b[0m sliced_dim \u001b[38;5;241m=\u001b[39m resolve_dim(index_tup, tracked\u001b[38;5;241m.\u001b[39mdim)\n\u001b[0;32m    115\u001b[0m new_tracked \u001b[38;5;241m=\u001b[39m tracked\u001b[38;5;241m.\u001b[39m\u001b[38;5;18m__class__\u001b[39m(sliced_o, sliced_dim)\n",
      "File \u001b[1;32mc:\\Users\\pablo\\Desktop\\IMAT\\Tercero\\NaturalLanguageProcessing\\rnn_explainability\\env\\lib\\site-packages\\slicer\\slicer_internal.py:69\u001b[0m, in \u001b[0;36mAtomicSlicer.__getitem__\u001b[1;34m(self, item)\u001b[0m\n\u001b[0;32m     66\u001b[0m index_tup \u001b[38;5;241m=\u001b[39m unify_slice(item, \u001b[38;5;28mself\u001b[39m\u001b[38;5;241m.\u001b[39mmax_dim)\n\u001b[0;32m     68\u001b[0m \u001b[38;5;66;03m# Slice according to object type.\u001b[39;00m\n\u001b[1;32m---> 69\u001b[0m \u001b[38;5;28;01mreturn\u001b[39;00m \u001b[43mUnifiedDataHandler\u001b[49m\u001b[38;5;241;43m.\u001b[39;49m\u001b[43mslice\u001b[49m\u001b[43m(\u001b[49m\u001b[38;5;28;43mself\u001b[39;49m\u001b[38;5;241;43m.\u001b[39;49m\u001b[43mo\u001b[49m\u001b[43m,\u001b[49m\u001b[43m \u001b[49m\u001b[43mindex_tup\u001b[49m\u001b[43m,\u001b[49m\u001b[43m \u001b[49m\u001b[38;5;28;43mself\u001b[39;49m\u001b[38;5;241;43m.\u001b[39;49m\u001b[43mmax_dim\u001b[49m\u001b[43m)\u001b[49m\n",
      "File \u001b[1;32mc:\\Users\\pablo\\Desktop\\IMAT\\Tercero\\NaturalLanguageProcessing\\rnn_explainability\\env\\lib\\site-packages\\slicer\\slicer_internal.py:583\u001b[0m, in \u001b[0;36mUnifiedDataHandler.slice\u001b[1;34m(cls, o, index_tup, max_dim)\u001b[0m\n\u001b[0;32m    580\u001b[0m tail_slice \u001b[38;5;241m=\u001b[39m \u001b[38;5;28mcls\u001b[39m\u001b[38;5;241m.\u001b[39mtype_map[o_type]\u001b[38;5;241m.\u001b[39mtail_slice\n\u001b[0;32m    582\u001b[0m is_element, sliced_o, cut \u001b[38;5;241m=\u001b[39m head_slice(o, index_tup, max_dim)\n\u001b[1;32m--> 583\u001b[0m out \u001b[38;5;241m=\u001b[39m \u001b[43mtail_slice\u001b[49m\u001b[43m(\u001b[49m\u001b[43msliced_o\u001b[49m\u001b[43m,\u001b[49m\u001b[43m \u001b[49m\u001b[43mindex_tup\u001b[49m\u001b[43m[\u001b[49m\u001b[43mcut\u001b[49m\u001b[43m:\u001b[49m\u001b[43m]\u001b[49m\u001b[43m,\u001b[49m\u001b[43m \u001b[49m\u001b[43mmax_dim\u001b[49m\u001b[43m \u001b[49m\u001b[38;5;241;43m-\u001b[39;49m\u001b[43m \u001b[49m\u001b[43mcut\u001b[49m\u001b[43m,\u001b[49m\u001b[43m \u001b[49m\u001b[43mis_element\u001b[49m\u001b[43m)\u001b[49m\n\u001b[0;32m    584\u001b[0m \u001b[38;5;28;01mreturn\u001b[39;00m out\n",
      "File \u001b[1;32mc:\\Users\\pablo\\Desktop\\IMAT\\Tercero\\NaturalLanguageProcessing\\rnn_explainability\\env\\lib\\site-packages\\slicer\\slicer_internal.py:443\u001b[0m, in \u001b[0;36mArrayHandler.tail_slice\u001b[1;34m(cls, o, tail_index, max_dim, flatten)\u001b[0m\n\u001b[0;32m    440\u001b[0m \u001b[38;5;28;01mif\u001b[39;00m _safe_isinstance(o, \u001b[38;5;124m\"\u001b[39m\u001b[38;5;124mnumpy\u001b[39m\u001b[38;5;124m\"\u001b[39m, \u001b[38;5;124m\"\u001b[39m\u001b[38;5;124mndarray\u001b[39m\u001b[38;5;124m\"\u001b[39m):\n\u001b[0;32m    441\u001b[0m     \u001b[38;5;28;01mimport\u001b[39;00m \u001b[38;5;21;01mnumpy\u001b[39;00m\n\u001b[1;32m--> 443\u001b[0m     \u001b[38;5;28;01mreturn\u001b[39;00m \u001b[43mnumpy\u001b[49m\u001b[38;5;241;43m.\u001b[39;49m\u001b[43marray\u001b[49m\u001b[43m(\u001b[49m\u001b[43minner\u001b[49m\u001b[43m)\u001b[49m\n\u001b[0;32m    444\u001b[0m \u001b[38;5;28;01melif\u001b[39;00m _safe_isinstance(o, \u001b[38;5;124m\"\u001b[39m\u001b[38;5;124mtorch\u001b[39m\u001b[38;5;124m\"\u001b[39m, \u001b[38;5;124m\"\u001b[39m\u001b[38;5;124mTensor\u001b[39m\u001b[38;5;124m\"\u001b[39m):\n\u001b[0;32m    445\u001b[0m     \u001b[38;5;28;01mimport\u001b[39;00m \u001b[38;5;21;01mtorch\u001b[39;00m\n",
      "\u001b[1;31mValueError\u001b[0m: setting an array element with a sequence. The requested array has an inhomogeneous shape after 1 dimensions. The detected shape was (2,) + inhomogeneous part."
     ]
    }
   ],
   "source": [
    "shap.plots.text(shap_values[:, :, \"POSITIVE\"])"
   ]
  }
 ],
 "metadata": {
  "kernelspec": {
   "display_name": "env",
   "language": "python",
   "name": "python3"
  },
  "language_info": {
   "codemirror_mode": {
    "name": "ipython",
    "version": 3
   },
   "file_extension": ".py",
   "mimetype": "text/x-python",
   "name": "python",
   "nbconvert_exporter": "python",
   "pygments_lexer": "ipython3",
   "version": "3.9.13"
  }
 },
 "nbformat": 4,
 "nbformat_minor": 2
}
