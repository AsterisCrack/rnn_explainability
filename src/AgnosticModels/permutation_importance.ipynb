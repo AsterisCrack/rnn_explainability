{
 "cells": [
  {
   "cell_type": "code",
   "execution_count": 3,
   "metadata": {},
   "outputs": [
    {
     "name": "stdout",
     "output_type": "stream",
     "text": [
      "c:\\Users\\anton\\OneDrive\\Escritorio\\TERCERO\\NLP\\ProyectoFinal\\rnn_explainability\\src\\AgnosticModels\n"
     ]
    }
   ],
   "source": [
    "# Imports\n",
    "import numpy as np\n",
    "import pandas as pd\n",
    "from typing import List\n",
    "from collections import OrderedDict\n",
    "\n",
    "import torch\n",
    "from torch.jit import RecursiveScriptModule\n",
    "\n",
    "\n",
    "# other libraries\n",
    "from typing import Final\n",
    "\n",
    "# Plotting\n",
    "import matplotlib.pyplot as plt\n",
    "import seaborn as sns\n",
    "import os\n",
    "print(os.getcwd())\n"
   ]
  },
  {
   "cell_type": "code",
   "execution_count": 10,
   "metadata": {},
   "outputs": [
    {
     "name": "stdout",
     "output_type": "stream",
     "text": [
      "['c:\\\\Users\\\\anton\\\\OneDrive\\\\Escritorio\\\\TERCERO\\\\NLP\\\\ProyectoFinal\\\\rnn_explainability\\\\src\\\\AgnosticModels', 'C:\\\\Python312\\\\python312.zip', 'C:\\\\Python312\\\\DLLs', 'C:\\\\Python312\\\\Lib', 'C:\\\\Python312', 'c:\\\\Users\\\\anton\\\\OneDrive\\\\Escritorio\\\\TERCERO\\\\NLP\\\\ProyectoFinal\\\\rnn_explainability\\\\.venv', '', 'c:\\\\Users\\\\anton\\\\OneDrive\\\\Escritorio\\\\TERCERO\\\\NLP\\\\ProyectoFinal\\\\rnn_explainability\\\\.venv\\\\Lib\\\\site-packages', 'c:\\\\Users\\\\anton\\\\OneDrive\\\\Escritorio\\\\TERCERO\\\\NLP\\\\ProyectoFinal\\\\rnn_explainability\\\\.venv\\\\Lib\\\\site-packages\\\\win32', 'c:\\\\Users\\\\anton\\\\OneDrive\\\\Escritorio\\\\TERCERO\\\\NLP\\\\ProyectoFinal\\\\rnn_explainability\\\\.venv\\\\Lib\\\\site-packages\\\\win32\\\\lib', 'c:\\\\Users\\\\anton\\\\OneDrive\\\\Escritorio\\\\TERCERO\\\\NLP\\\\ProyectoFinal\\\\rnn_explainability\\\\.venv\\\\Lib\\\\site-packages\\\\Pythonwin', '/c:/Users/anton/OneDrive/Escritorio/TERCERO/NLP/ProyectoFinal/rnn_explainability/src', '/c:/Users/anton/OneDrive/Escritorio/TERCERO/NLP/ProyectoFinal/rnn_explainability/src', '/c:/Users/anton/OneDrive/Escritorio/TERCERO/NLP/ProyectoFinal/rnn_explainability/src']\n"
     ]
    },
    {
     "ename": "ImportError",
     "evalue": "attempted relative import with no known parent package",
     "output_type": "error",
     "traceback": [
      "\u001b[1;31m---------------------------------------------------------------------------\u001b[0m",
      "\u001b[1;31mImportError\u001b[0m                               Traceback (most recent call last)",
      "Cell \u001b[1;32mIn[10], line 5\u001b[0m\n\u001b[0;32m      3\u001b[0m \u001b[38;5;28mprint\u001b[39m(sys\u001b[38;5;241m.\u001b[39mpath)\n\u001b[0;32m      4\u001b[0m \u001b[38;5;66;03m# own modules\u001b[39;00m\n\u001b[1;32m----> 5\u001b[0m \u001b[38;5;28;01mfrom\u001b[39;00m \u001b[38;5;21;01m.\u001b[39;00m\u001b[38;5;21;01msrc\u001b[39;00m\u001b[38;5;21;01m.\u001b[39;00m\u001b[38;5;21;01mmodel_utils\u001b[39;00m \u001b[38;5;28;01mimport\u001b[39;00m load_model\n\u001b[0;32m      6\u001b[0m \u001b[38;5;28;01mfrom\u001b[39;00m \u001b[38;5;21;01m.\u001b[39;00m\u001b[38;5;21;01msrc\u001b[39;00m\u001b[38;5;21;01m.\u001b[39;00m\u001b[38;5;21;01mmodel_utils\u001b[39;00m \u001b[38;5;28;01mimport\u001b[39;00m predict_single_text\n\u001b[0;32m      7\u001b[0m \u001b[38;5;28;01mfrom\u001b[39;00m \u001b[38;5;21;01m.\u001b[39;00m\u001b[38;5;21;01msrc\u001b[39;00m\u001b[38;5;21;01m.\u001b[39;00m\u001b[38;5;21;01mmodel_utils\u001b[39;00m \u001b[38;5;28;01mimport\u001b[39;00m predict_multiple_text\n",
      "\u001b[1;31mImportError\u001b[0m: attempted relative import with no known parent package"
     ]
    }
   ],
   "source": [
    "\n",
    "# own modules\n",
    "from src.model_utils import load_model\n",
    "from src.model_utils import predict_single_text\n",
    "from src.model_utils import predict_multiple_text\n",
    "from src.model_utils import load_w2v_model\n",
    "\n",
    "# permutation importance\n",
    "from sklearn.inspection import permutation_importance"
   ]
  },
  {
   "cell_type": "code",
   "execution_count": null,
   "metadata": {},
   "outputs": [],
   "source": [
    "# static variables\n",
    "DATA_PATH: Final[str] = \"NLP_Data/data\"\n",
    "MODEL_TYPE: Final[str] = \"IMDB\"  # \"TweepFake\"\n",
    "\n",
    "# set device\n",
    "device = torch.device(\n",
    "    \"cuda\") if torch.cuda.is_available() else torch.device(\"cpu\")\n",
    "set_seed(42)"
   ]
  },
  {
   "cell_type": "code",
   "execution_count": null,
   "metadata": {},
   "outputs": [],
   "source": [
    "# load the model\n",
    "if MODEL_TYPE == \"IMDB\":\n",
    "    model: RecursiveScriptModule = load_model(\"IMDB_best_model\")\n",
    "else:\n",
    "    model: RecursiveScriptModule = load_model(\"best_model\")\n",
    "    \n",
    "# Load the w2v model\n",
    "w2vec_model = load_w2v_model()"
   ]
  },
  {
   "cell_type": "code",
   "execution_count": null,
   "metadata": {},
   "outputs": [],
   "source": [
    "if MODEL_TYPE == \"IMDB\":\n",
    "    file_path = DATA_PATH + '/test.txt'\n",
    "    data: pd.DataFrame = pd.read_csv(file_path, sep='\\t', header=None)\n",
    "    data.columns = ['text', 'tag']\n",
    "\n",
    "else:\n",
    "    file_path = DATA_PATH + '/test.csv'\n",
    "    data: pd.DataFrame = pd.read_csv(file_path)\n",
    "\n",
    "    # replace the target column with a binary representation\n",
    "    data['tag'] = data['account.type'].replace('human', 0)\n",
    "    data['tag'] = data['tag'].replace('bot', 1)\n",
    "    # Only keep columns text and tag\n",
    "    data = data[['text', 'tag']]\n",
    "\n",
    "print(data.head())"
   ]
  },
  {
   "cell_type": "code",
   "execution_count": null,
   "metadata": {},
   "outputs": [],
   "source": [
    "# Test the model with a single text\n",
    "text = data['text'][2]\n",
    "print(text)\n",
    "predicted = predict_single_text(text, model, device)\n",
    "print(f\"Predicted: {predicted}, Real: {data['tag'][0]}\")"
   ]
  },
  {
   "cell_type": "code",
   "execution_count": null,
   "metadata": {},
   "outputs": [],
   "source": [
    "def classifier_fn(text: str) -> int:\n",
    "    predictions = predict_multiple_text(text, model, device, probability=True)\n",
    "    # We have 2 classes. build the array (d, k) where d is the prediction and k is the number of classes\n",
    "    array = []\n",
    "    for prediction in predictions:\n",
    "        array.append(np.array([1 - prediction, prediction]))\n",
    "    array = np.array(array)\n",
    "    return array"
   ]
  },
  {
   "cell_type": "code",
   "execution_count": null,
   "metadata": {},
   "outputs": [],
   "source": [
    "class_names = [0, 1]\n",
    "print(f\"Explaining result for: {text}\")\n",
    "result = permutation_importance(classifier_fn, text, class_names, w2vec_model)\n",
    "print(result)\n"
   ]
  }
 ],
 "metadata": {
  "kernelspec": {
   "display_name": ".venv",
   "language": "python",
   "name": "python3"
  },
  "language_info": {
   "codemirror_mode": {
    "name": "ipython",
    "version": 3
   },
   "file_extension": ".py",
   "mimetype": "text/x-python",
   "name": "python",
   "nbconvert_exporter": "python",
   "pygments_lexer": "ipython3",
   "version": "3.12.2"
  }
 },
 "nbformat": 4,
 "nbformat_minor": 2
}
