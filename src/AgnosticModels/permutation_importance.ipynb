{
 "cells": [
  {
   "cell_type": "code",
   "execution_count": 18,
   "metadata": {},
   "outputs": [
    {
     "name": "stdout",
     "output_type": "stream",
     "text": [
      "c:\\Users\\anton\\OneDrive\\Escritorio\\TERCERO\\NLP\\ProyectoFinal\\rnn_explainability\n"
     ]
    }
   ],
   "source": [
    "# Imports\n",
    "import numpy as np\n",
    "import pandas as pd\n",
    "from typing import List\n",
    "from collections import OrderedDict\n",
    "\n",
    "import torch\n",
    "from torch.jit import RecursiveScriptModule\n",
    "\n",
    "\n",
    "# other libraries\n",
    "from typing import Final\n",
    "\n",
    "# Plotting\n",
    "import matplotlib.pyplot as plt\n",
    "import seaborn as sns\n",
    "import os\n",
    "print(os.getcwd())\n"
   ]
  },
  {
   "cell_type": "code",
   "execution_count": 19,
   "metadata": {},
   "outputs": [],
   "source": [
    "\n",
    "# own modules\n",
    "from src.model_utils import load_model\n",
    "from src.model_utils import predict_single_text\n",
    "from src.model_utils import predict_multiple_text\n",
    "from src.model_utils import load_w2v_model\n",
    "from src.model_utils import set_seed\n",
    "from src.RNNModelTrain.data import tokenize_tweet\n",
    "# permutation importance\n",
    "from sklearn.inspection import permutation_importance"
   ]
  },
  {
   "cell_type": "code",
   "execution_count": 20,
   "metadata": {},
   "outputs": [
    {
     "data": {
      "text/plain": [
       "'\\n# permutation importance\\nfrom sklearn.inspection import permutation_importance'"
      ]
     },
     "execution_count": 20,
     "metadata": {},
     "output_type": "execute_result"
    }
   ],
   "source": [
    "\"\"\"\n",
    "# permutation importance\n",
    "from sklearn.inspection import permutation_importance\"\"\""
   ]
  },
  {
   "cell_type": "code",
   "execution_count": 21,
   "metadata": {},
   "outputs": [],
   "source": [
    "# static variables\n",
    "DATA_PATH: Final[str] = \"NLP_Data/data\"\n",
    "MODEL_TYPE: Final[str] = \"IMDB\"  # \"TweepFake\"\n",
    "\n",
    "# set device\n",
    "device = torch.device(\n",
    "    \"cuda\") if torch.cuda.is_available() else torch.device(\"cpu\")\n",
    "set_seed(42)"
   ]
  },
  {
   "cell_type": "code",
   "execution_count": 22,
   "metadata": {},
   "outputs": [
    {
     "name": "stdout",
     "output_type": "stream",
     "text": [
      "c:\\Users\\anton\\OneDrive\\Escritorio\\TERCERO\\NLP\\ProyectoFinal\\rnn_explainability\n"
     ]
    }
   ],
   "source": [
    "import os \n",
    "print(os.getcwd())\n"
   ]
  },
  {
   "cell_type": "code",
   "execution_count": 23,
   "metadata": {},
   "outputs": [],
   "source": [
    "\n",
    "# load the model\n",
    "if MODEL_TYPE == \"IMDB\":\n",
    "    model: RecursiveScriptModule = load_model(\"IMDB_best_model\")\n",
    "else:\n",
    "    model: RecursiveScriptModule = load_model(\"best_model\")\n",
    "    \n",
    "# Load the w2v model\n",
    "w2vec_model = load_w2v_model()"
   ]
  },
  {
   "cell_type": "code",
   "execution_count": 24,
   "metadata": {},
   "outputs": [
    {
     "name": "stdout",
     "output_type": "stream",
     "text": [
      "                                                text  tag\n",
      "0  I first saw The Buddy Holly Story when I was a...    1\n",
      "1  There were so many things wrong with this movi...    0\n",
      "2  There's a unique place in the pantheon of John...    1\n",
      "3  It kicks you in the stomach. There are other f...    1\n",
      "4  To start, I'm not a person to rate movies that...    0\n"
     ]
    }
   ],
   "source": [
    "if MODEL_TYPE == \"IMDB\":\n",
    "    file_path = DATA_PATH + '/test.txt'\n",
    "    data: pd.DataFrame = pd.read_csv(file_path, sep='\\t', header=None)\n",
    "    data.columns = ['text', 'tag']\n",
    "\n",
    "else:\n",
    "    file_path = DATA_PATH + '/test.csv'\n",
    "    data: pd.DataFrame = pd.read_csv(file_path)\n",
    "\n",
    "    # replace the target column with a binary representation\n",
    "    data['tag'] = data['account.type'].replace('human', 0)\n",
    "    data['tag'] = data['tag'].replace('bot', 1)\n",
    "    # Only keep columns text and tag\n",
    "    data = data[['text', 'tag']]\n",
    "\n",
    "print(data.head())"
   ]
  },
  {
   "cell_type": "code",
   "execution_count": 25,
   "metadata": {},
   "outputs": [
    {
     "name": "stdout",
     "output_type": "stream",
     "text": [
      "There's a unique place in the pantheon of John Ford films for Wagonmaster, Sergeant Rutledge, and The Sun Shines Bright. It was these three films with no box office names in them that Ford didn't have to tailor the film around the persona of a star being it John Wayne, Henry Fonda, or any of the others he worked with. Not surprising that Ford considered all these as favorites of one kind or another. <br /><br />Ben Johnson and Harry Carey, Jr. a couple of likable cowpokes sign on to guide a Mormon wagon train to a valley in Arizona territory. Along the way they are joined first by a group stranded players from a medicine show and then by a family of outlaws on the run named Clegg. Their stories merge and what happens is the basis of the film's plot.<br /><br />Had Wagonmaster been done even 10 years earlier on the strength of the two performances turned in by Johnson and Carey, both probably would have had substantial careers as B picture cowboys. In the case of Johnson it would have been art imitating life. Johnson was a real rodeo cowboy and came to Hollywood with a string of horses for John Ford to use in Fort Apache. Ford was struck by his presence and the rest is history. <br /><br />But the day of the B western was drawing to a close and Johnson and Carey had great careers as two fine character actors.<br /><br />Ward Bond plays Elder Wiggs leader of the Mormons. Bond is a recent convert though and has trouble remembering to not use some four letter words. But he's the leader because of his strength of character, not his impeccable LDS theology. He turns out to be a wise and compassionate leader.<br /><br />In portraying the Cleggs, Ford only had to reach back four years to his My Darling Clementine. They are the reincarnation of the Clanton gang and pure evil. In fact if Walter Brennan who after My Darling Clementine refused to ever work for Ford again was willing I could easily see him being cast as Shiloh Clegg the head of the family. As it was Charles Kemper did a fine job, this is probably the role he's most noted for. Shortly after this film was done, Kemper was killed in automobile crash. He might very well have worked for Ford in the future.<br /><br />Ford makes the Mormons pacifists here and I don't recall that pacifism was part of LDS doctrine. Nevertheless it works here, the whole idea being that these people who carry no weapons are innocents when dealing with evil people like the Cleggs. It takes some gun toting cowboys to properly dispose of them. I think that this post World War II film is trying to say that pacifism isn't always the best policy. <br /><br />Another carryover from My Darling Clementine is Alan Mowbray playing the same kind of role he did there as head of the medicine show troupe. Part of that troupe is Joanne Dru who's doing another turn as a woman of elastic virtue the same as she did in Red River. Dru used to do so many westerns that she longed to be out of gingham and into some modern fashions.<br /><br />Wagonmaster is great entertainment and I'm willing to wager in the state of Utah it's a pretty popular film.\n",
      "Predicted: 1, Real: 1\n"
     ]
    }
   ],
   "source": [
    "# Test the model with a single text\n",
    "text = data['text'][2]\n",
    "print(text)\n",
    "predicted = predict_single_text(text, model, device)\n",
    "print(f\"Predicted: {predicted}, Real: {data['tag'][0]}\")"
   ]
  },
  {
   "cell_type": "code",
   "execution_count": 26,
   "metadata": {},
   "outputs": [],
   "source": [
    "def classifier_fn(text: str) -> int:\n",
    "    predictions = predict_multiple_text(text, model, device, probability=True)\n",
    "    # We have 2 classes. build the array (d, k) where d is the prediction and k is the number of classes\n",
    "    array = []\n",
    "    for prediction in predictions:\n",
    "        array.append(np.array([1 - prediction, prediction]))\n",
    "    array = np.array(array)\n",
    "    return array"
   ]
  },
  {
   "cell_type": "code",
   "execution_count": 29,
   "metadata": {},
   "outputs": [],
   "source": [
    "import random\n",
    "def permutation_importance(text):\n",
    "    \"\"\"\n",
    "    This function calculates the permutation importance of the classifier_fn function.\n",
    "\n",
    "    Args:\n",
    "        text: text to calculate the permutation importance.\n",
    "\n",
    "    Returns:\n",
    "        The permutation importance of the classifier_fn function.\n",
    "    \"\"\"\n",
    "    \n",
    "    # tokenize the text\n",
    "    tokenized_text = tokenize_tweet(text)\n",
    "    \n",
    "    # get the predictions of the classifier_fn\n",
    "    predictions = classifier_fn(tokenized_text)\n",
    "    print(tokenized_text)\n",
    "    # get the real class\n",
    "    real_class = data['tag'][0]\n",
    "\n",
    "    # get the initial probability\n",
    "    initial_probability = predictions[0][real_class]\n",
    "\n",
    "    # get the number of permutations\n",
    "    n_permutations = 100\n",
    "\n",
    "    # get the permutation importance\n",
    "    permutation_importance = 0\n",
    "    for _ in range(n_permutations):\n",
    "        # shuffle the text\n",
    "        shuffled_text = tokenized_text.copy()\n",
    "        random.shuffle(shuffled_text)\n",
    "\n",
    "        # get the predictions of the shuffled text\n",
    "        shuffled_predictions = classifier_fn(shuffled_text)\n",
    "\n",
    "        # get the shuffled probability\n",
    "        shuffled_probability = shuffled_predictions[0][real_class]\n",
    "\n",
    "        # update the permutation importance\n",
    "        permutation_importance += shuffled_probability\n",
    "\n",
    "    # calculate the permutation importance\n",
    "    permutation_importance /= n_permutations\n",
    "    permutation_importance -= initial_probability\n",
    "\n",
    "    return permutation_importance"
   ]
  },
  {
   "cell_type": "code",
   "execution_count": 30,
   "metadata": {},
   "outputs": [
    {
     "name": "stdout",
     "output_type": "stream",
     "text": [
      "Explaining result for: There's a unique place in the pantheon of John Ford films for Wagonmaster, Sergeant Rutledge, and The Sun Shines Bright. It was these three films with no box office names in them that Ford didn't have to tailor the film around the persona of a star being it John Wayne, Henry Fonda, or any of the others he worked with. Not surprising that Ford considered all these as favorites of one kind or another. <br /><br />Ben Johnson and Harry Carey, Jr. a couple of likable cowpokes sign on to guide a Mormon wagon train to a valley in Arizona territory. Along the way they are joined first by a group stranded players from a medicine show and then by a family of outlaws on the run named Clegg. Their stories merge and what happens is the basis of the film's plot.<br /><br />Had Wagonmaster been done even 10 years earlier on the strength of the two performances turned in by Johnson and Carey, both probably would have had substantial careers as B picture cowboys. In the case of Johnson it would have been art imitating life. Johnson was a real rodeo cowboy and came to Hollywood with a string of horses for John Ford to use in Fort Apache. Ford was struck by his presence and the rest is history. <br /><br />But the day of the B western was drawing to a close and Johnson and Carey had great careers as two fine character actors.<br /><br />Ward Bond plays Elder Wiggs leader of the Mormons. Bond is a recent convert though and has trouble remembering to not use some four letter words. But he's the leader because of his strength of character, not his impeccable LDS theology. He turns out to be a wise and compassionate leader.<br /><br />In portraying the Cleggs, Ford only had to reach back four years to his My Darling Clementine. They are the reincarnation of the Clanton gang and pure evil. In fact if Walter Brennan who after My Darling Clementine refused to ever work for Ford again was willing I could easily see him being cast as Shiloh Clegg the head of the family. As it was Charles Kemper did a fine job, this is probably the role he's most noted for. Shortly after this film was done, Kemper was killed in automobile crash. He might very well have worked for Ford in the future.<br /><br />Ford makes the Mormons pacifists here and I don't recall that pacifism was part of LDS doctrine. Nevertheless it works here, the whole idea being that these people who carry no weapons are innocents when dealing with evil people like the Cleggs. It takes some gun toting cowboys to properly dispose of them. I think that this post World War II film is trying to say that pacifism isn't always the best policy. <br /><br />Another carryover from My Darling Clementine is Alan Mowbray playing the same kind of role he did there as head of the medicine show troupe. Part of that troupe is Joanne Dru who's doing another turn as a woman of elastic virtue the same as she did in Red River. Dru used to do so many westerns that she longed to be out of gingham and into some modern fashions.<br /><br />Wagonmaster is great entertainment and I'm willing to wager in the state of Utah it's a pretty popular film.\n",
      "[\"There's\", 'a', 'unique', 'place', 'in', 'the', 'pantheon', 'of', 'John', 'Ford', 'films', 'for', 'Wagonmaster,', 'Sergeant', 'Rutledge,', 'and', 'The', 'Sun', 'Shines', 'Bright.', 'It', 'was', 'these', 'three', 'films', 'with', 'no', 'box', 'office', 'names', 'in', 'them', 'that', 'Ford', \"didn't\", 'have', 'to', 'tailor', 'the', 'film', 'around', 'the', 'persona', 'of', 'a', 'star', 'being', 'it', 'John', 'Wayne,', 'Henry', 'Fonda,', 'or', 'any', 'of', 'the', 'others', 'he', 'worked', 'with.', 'Not', 'surprising', 'that', 'Ford', 'considered', 'all', 'these', 'as', 'favorites', 'of', 'one', 'kind', 'or', 'another.', '<br', '/><br', '/>Ben', 'Johnson', 'and', 'Harry', 'Carey,', 'Jr.', 'a', 'couple', 'of', 'likable', 'cowpokes', 'sign', 'on', 'to', 'guide', 'a', 'Mormon', 'wagon', 'train', 'to', 'a', 'valley', 'in', 'Arizona', 'territory.', 'Along', 'the', 'way', 'they', 'are', 'joined', 'first', 'by', 'a', 'group', 'stranded', 'players', 'from', 'a', 'medicine', 'show', 'and', 'then', 'by', 'a', 'family', 'of', 'outlaws', 'on', 'the', 'run', 'named', 'Clegg.', 'Their', 'stories', 'merge', 'and', 'what', 'happens', 'is', 'the', 'basis', 'of', 'the', \"film's\", 'plot.<br', '/><br', '/>Had', 'Wagonmaster', 'been', 'done', 'even', '10', 'years', 'earlier', 'on', 'the', 'strength', 'of', 'the', 'two', 'performances', 'turned', 'in', 'by', 'Johnson', 'and', 'Carey,', 'both', 'probably', 'would', 'have', 'had', 'substantial', 'careers', 'as', 'B', 'picture', 'cowboys.', 'In', 'the', 'case', 'of', 'Johnson', 'it', 'would', 'have', 'been', 'art', 'imitating', 'life.', 'Johnson', 'was', 'a', 'real', 'rodeo', 'cowboy', 'and', 'came', 'to', 'Hollywood', 'with', 'a', 'string', 'of', 'horses', 'for', 'John', 'Ford', 'to', 'use', 'in', 'Fort', 'Apache.', 'Ford', 'was', 'struck', 'by', 'his', 'presence', 'and', 'the', 'rest', 'is', 'history.', '<br', '/><br', '/>But', 'the', 'day', 'of', 'the', 'B', 'western', 'was', 'drawing', 'to', 'a', 'close', 'and', 'Johnson', 'and', 'Carey', 'had', 'great', 'careers', 'as', 'two', 'fine', 'character', 'actors.<br', '/><br', '/>Ward', 'Bond', 'plays', 'Elder', 'Wiggs', 'leader', 'of', 'the', 'Mormons.', 'Bond', 'is', 'a', 'recent', 'convert', 'though', 'and', 'has', 'trouble', 'remembering', 'to', 'not', 'use', 'some', 'four', 'letter', 'words.', 'But', \"he's\", 'the', 'leader', 'because', 'of', 'his', 'strength', 'of', 'character,', 'not', 'his', 'impeccable', 'LDS', 'theology.', 'He', 'turns', 'out', 'to', 'be', 'a', 'wise', 'and', 'compassionate', 'leader.<br', '/><br', '/>In', 'portraying', 'the', 'Cleggs,', 'Ford', 'only', 'had', 'to', 'reach', 'back', 'four', 'years', 'to', 'his', 'My', 'Darling', 'Clementine.', 'They', 'are', 'the', 'reincarnation', 'of', 'the', 'Clanton', 'gang', 'and', 'pure', 'evil.', 'In', 'fact', 'if', 'Walter', 'Brennan', 'who', 'after', 'My', 'Darling', 'Clementine', 'refused', 'to', 'ever', 'work', 'for', 'Ford', 'again', 'was', 'willing', 'I', 'could', 'easily', 'see', 'him', 'being', 'cast', 'as', 'Shiloh', 'Clegg', 'the', 'head', 'of', 'the', 'family.', 'As', 'it', 'was', 'Charles', 'Kemper', 'did', 'a', 'fine', 'job,', 'this', 'is', 'probably', 'the', 'role', \"he's\", 'most', 'noted', 'for.', 'Shortly', 'after', 'this', 'film', 'was', 'done,', 'Kemper', 'was', 'killed', 'in', 'automobile', 'crash.', 'He', 'might', 'very', 'well', 'have', 'worked', 'for', 'Ford', 'in', 'the', 'future.<br', '/><br', '/>Ford', 'makes', 'the', 'Mormons', 'pacifists', 'here', 'and', 'I', \"don't\", 'recall', 'that', 'pacifism', 'was', 'part', 'of', 'LDS', 'doctrine.', 'Nevertheless', 'it', 'works', 'here,', 'the', 'whole', 'idea', 'being', 'that', 'these', 'people', 'who', 'carry', 'no', 'weapons', 'are', 'innocents', 'when', 'dealing', 'with', 'evil', 'people', 'like', 'the', 'Cleggs.', 'It', 'takes', 'some', 'gun', 'toting', 'cowboys', 'to', 'properly', 'dispose', 'of', 'them.', 'I', 'think', 'that', 'this', 'post', 'World', 'War', 'II', 'film', 'is', 'trying', 'to', 'say', 'that', 'pacifism', \"isn't\", 'always', 'the', 'best', 'policy.', '<br', '/><br', '/>Another', 'carryover', 'from', 'My', 'Darling', 'Clementine', 'is', 'Alan', 'Mowbray', 'playing', 'the', 'same', 'kind', 'of', 'role', 'he', 'did', 'there', 'as', 'head', 'of', 'the', 'medicine', 'show', 'troupe.', 'Part', 'of', 'that', 'troupe', 'is', 'Joanne', 'Dru', \"who's\", 'doing', 'another', 'turn', 'as', 'a', 'woman', 'of', 'elastic', 'virtue', 'the', 'same', 'as', 'she', 'did', 'in', 'Red', 'River.', 'Dru', 'used', 'to', 'do', 'so', 'many', 'westerns', 'that', 'she', 'longed', 'to', 'be', 'out', 'of', 'gingham', 'and', 'into', 'some', 'modern', 'fashions.<br', '/><br', '/>Wagonmaster', 'is', 'great', 'entertainment', 'and', \"I'm\", 'willing', 'to', 'wager', 'in', 'the', 'state', 'of', 'Utah', \"it's\", 'a', 'pretty', 'popular', 'film.']\n",
      "-0.13640415519475935\n"
     ]
    }
   ],
   "source": [
    "\n",
    "class_names = [0, 1]\n",
    "print(f\"Explaining result for: {text}\")\n",
    "result = permutation_importance(text)\n",
    "print(result)\n"
   ]
  },
  {
   "cell_type": "code",
   "execution_count": 32,
   "metadata": {},
   "outputs": [],
   "source": [
    "def classifier_fn_likelihood(text: str) -> int:\n",
    "    # probability=False to get the likelihood instead of the probability\n",
    "    predictions = predict_multiple_text(text, model, device, probability=False, likelihood=True)\n",
    "    # We have 2 classes. build the array (d, k) where d is the prediction and k is the number of classes\n",
    "    array = []\n",
    "    for prediction in predictions:\n",
    "        array.append(np.array([1 - prediction, prediction]))\n",
    "    array = np.array(array)\n",
    "    return array"
   ]
  },
  {
   "cell_type": "code",
   "execution_count": 41,
   "metadata": {},
   "outputs": [],
   "source": [
    "from tqdm import tqdm\n",
    "import re\n",
    "text = \"I love this movie, it is the best movie I have ever seen. The actors are amazing and the story is great.\"\n",
    "def tokenize_tweet(tweet: str) -> List[str]:\n",
    "    \"\"\"\n",
    "    Tokenizes a given tweet by splitting the text into words, and doing any cleaning, replacing or normalization deemed useful\n",
    "\n",
    "    Args:\n",
    "        tweet (str): The tweet text to be tokenized.\n",
    "\n",
    "    Returns:\n",
    "        List[str]: A list of strings, representing the tokenized components of the tweet.\n",
    "    \"\"\"\n",
    "    USR_MENTION_TOKEN = \"<!USR_MENTION>\"\n",
    "    URL_TOKEN = \"<!URL>\"\n",
    "    tweet = re.sub(r'@\\w+', USR_MENTION_TOKEN, tweet)\n",
    "\n",
    "    # replace the urls with a specific token\n",
    "    tweet = re.sub(r'http\\S+', URL_TOKEN, tweet)\n",
    "\n",
    "    # remove the hashtags from the tweet\n",
    "    tweet = re.sub(r'#\\w+', '', tweet)\n",
    "\n",
    "    return tweet.split()\n",
    "\n",
    "def likelihood_permutation_importance(text):\n",
    "    \"\"\"\n",
    "    This function calculates the likelihood permutation importance of each word in the text.\n",
    "\n",
    "    Args:\n",
    "        text: Text to calculate the likelihood permutation importance.\n",
    "\n",
    "    Returns:\n",
    "        A dictionary with the likelihood permutation importance of each word in the text.\n",
    "    \"\"\"\n",
    "    \n",
    "    # Tokenize the text\n",
    "    tokens = tokenize_tweet(text)\n",
    "\n",
    "    # Get the predictions of the classifier_fn\n",
    "    predictions = classifier_fn(text)\n",
    "\n",
    "    # Get the real class\n",
    "    real_class = data['tag'][0]\n",
    "\n",
    "    # Get the initial probability\n",
    "    initial_probability = predictions[0][real_class]\n",
    "\n",
    "    # Initialize permutation importance dictionary\n",
    "    permutation_importance = {}\n",
    "\n",
    "    # Iterate over each token (word) in the text\n",
    "    for i, token in enumerate(tqdm(tokens, desc=\"Calculating permutation importance\")):\n",
    "        # Initialize importance for current token\n",
    "        token_importance = 0\n",
    "\n",
    "        # Iterate over each possible position for the current token\n",
    "        for j in range(len(tokens)):\n",
    "            if j != i:\n",
    "                # Create a copy of tokens with the current token moved to position j\n",
    "                shuffled_tokens = list(tokens)\n",
    "                shuffled_tokens.pop(i)\n",
    "                shuffled_tokens.insert(j, token)\n",
    "\n",
    "                # Join the shuffled tokens back into a text\n",
    "                shuffled_text = ' '.join(shuffled_tokens)\n",
    "\n",
    "                # Get the predictions of the shuffled text\n",
    "                shuffled_predictions = classifier_fn_likelihood(shuffled_text)\n",
    "\n",
    "                # Get the shuffled probability\n",
    "                shuffled_probability = shuffled_predictions[0][real_class]\n",
    "\n",
    "                # Accumulate the importance of moving the current token to position j\n",
    "                token_importance += shuffled_probability - initial_probability\n",
    "\n",
    "        # Store the total importance for the current token\n",
    "        permutation_importance[token] = token_importance\n",
    "\n",
    "    return permutation_importance\n",
    "\n"
   ]
  },
  {
   "cell_type": "code",
   "execution_count": 42,
   "metadata": {},
   "outputs": [
    {
     "name": "stdout",
     "output_type": "stream",
     "text": [
      "Explaining result for: I love this movie, it is the best movie I have ever seen. The actors are amazing and the story is great.\n"
     ]
    },
    {
     "name": "stderr",
     "output_type": "stream",
     "text": [
      "Calculating permutation importance: 100%|██████████| 22/22 [00:11<00:00,  1.86it/s]"
     ]
    },
    {
     "name": "stdout",
     "output_type": "stream",
     "text": [
      "{'I': -9.03238369524479, 'love': -9.263490304350853, 'this': -9.232991367578506, 'movie,': -9.07205594331026, 'it': -9.153269538655877, 'is': -9.153269538655877, 'the': -9.232991367578506, 'best': -9.277381852269173, 'movie': -9.07205594331026, 'have': -9.221758469939232, 'ever': -8.969728231430054, 'seen.': -8.843939036130905, 'The': -9.218764141201973, 'actors': -9.125543236732483, 'are': -9.125543236732483, 'amazing': -9.125543236732483, 'and': -9.125543236732483, 'story': -8.843939036130905, 'great.': -9.297912329435349}\n"
     ]
    },
    {
     "name": "stderr",
     "output_type": "stream",
     "text": [
      "\n"
     ]
    }
   ],
   "source": [
    "# Now we will test the new method with the same text as before.\n",
    "print(f\"Explaining result for: {text}\")\n",
    "result = likelihood_permutation_importance(text)\n",
    "print(result)"
   ]
  },
  {
   "cell_type": "code",
   "execution_count": 43,
   "metadata": {},
   "outputs": [
    {
     "data": {
      "image/png": "[encoded data removed]",
      "text/plain": [
       "<Figure size 1000x600 with 1 Axes>"
      ]
     },
     "metadata": {},
     "output_type": "display_data"
    }
   ],
   "source": [
    "#Now lets plot the results\n",
    "def plot_permutation_importance(perm_importance: dict, title: str):\n",
    "    \"\"\"\n",
    "    Plots the permutation importance of each word in a text.\n",
    "\n",
    "    Args:\n",
    "        perm_importance: A dictionary with the permutation importance of each word in the text.\n",
    "        title: The title of the plot.\n",
    "    \"\"\"\n",
    "    # Sort the permutation importance by value\n",
    "    perm_importance = OrderedDict(sorted(perm_importance.items(), key=lambda x: x[1], reverse=True))\n",
    "\n",
    "    # Create a dataframe from the permutation importance\n",
    "    df = pd.DataFrame(list(perm_importance.items()), columns=['Word', 'Importance'])\n",
    "\n",
    "    # Plot the permutation importance\n",
    "    plt.figure(figsize=(10, 6))\n",
    "    sns.barplot(x='Importance', y='Word', data=df)\n",
    "    plt.title(title)\n",
    "    plt.show()\n",
    "    \n",
    "plot_permutation_importance(result, \"Permutation Importance of each word in the text\")\n"
   ]
  }
 ],
 "metadata": {
  "kernelspec": {
   "display_name": ".venv",
   "language": "python",
   "name": "python3"
  },
  "language_info": {
   "codemirror_mode": {
    "name": "ipython",
    "version": 3
   },
   "file_extension": ".py",
   "mimetype": "text/x-python",
   "name": "python",
   "nbconvert_exporter": "python",
   "pygments_lexer": "ipython3",
   "version": "3.12.2"
  }
 },
 "nbformat": 4,
 "nbformat_minor": 2
}
