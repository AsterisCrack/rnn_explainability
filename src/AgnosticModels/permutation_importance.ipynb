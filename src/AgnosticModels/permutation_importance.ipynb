{
 "cells": [
  {
   "cell_type": "code",
   "execution_count": 17,
   "metadata": {},
   "outputs": [],
   "source": [
    "# Imports\n",
    "import pandas as pd\n",
    "from typing import List\n",
    "\n",
    "\n",
    "import torch\n",
    "from torch.jit import RecursiveScriptModule\n",
    "\n",
    "\n",
    "# other libraries\n",
    "from typing import Final\n",
    "\n"
   ]
  },
  {
   "cell_type": "code",
   "execution_count": 18,
   "metadata": {},
   "outputs": [],
   "source": [
    "\n",
    "# own modules\n",
    "from src.model_utils import load_model\n",
    "from src.model_utils import predict_single_text\n",
    "from src.model_utils import load_w2v_model\n",
    "from src.model_utils import set_seed\n",
    "from src.RNNModelTrain.data import tokenize_tweet\n"
   ]
  },
  {
   "cell_type": "code",
   "execution_count": 19,
   "metadata": {},
   "outputs": [],
   "source": [
    "# static variables\n",
    "DATA_PATH: Final[str] = \"NLP_Data/data\"\n",
    "MODEL_TYPE: Final[str] = \"IMDB\"  # \"TweepFake\"\n",
    "\n",
    "# set device\n",
    "device = torch.device(\n",
    "    \"cuda\") if torch.cuda.is_available() else torch.device(\"cpu\")\n",
    "set_seed(42)"
   ]
  },
  {
   "cell_type": "code",
   "execution_count": 20,
   "metadata": {},
   "outputs": [],
   "source": [
    "# load the model\n",
    "if MODEL_TYPE == \"IMDB\":\n",
    "    model: RecursiveScriptModule = load_model(\"IMDB_best_model\")\n",
    "else:\n",
    "    model: RecursiveScriptModule = load_model(\"best_model\")\n",
    "    \n",
    "# Load the w2v model\n",
    "w2vec_model = load_w2v_model()"
   ]
  },
  {
   "cell_type": "code",
   "execution_count": 21,
   "metadata": {},
   "outputs": [
    {
     "name": "stdout",
     "output_type": "stream",
     "text": [
      "                                                text  tag\n",
      "0  I first saw The Buddy Holly Story when I was a...    1\n",
      "1  There were so many things wrong with this movi...    0\n",
      "2  There's a unique place in the pantheon of John...    1\n",
      "3  It kicks you in the stomach. There are other f...    1\n",
      "4  To start, I'm not a person to rate movies that...    0\n"
     ]
    }
   ],
   "source": [
    "if MODEL_TYPE == \"IMDB\":\n",
    "    file_path = DATA_PATH + '/test.txt'\n",
    "    data: pd.DataFrame = pd.read_csv(file_path, sep='\\t', header=None)\n",
    "    data.columns = ['text', 'tag']\n",
    "\n",
    "else:\n",
    "    file_path = DATA_PATH + '/test.csv'\n",
    "    data: pd.DataFrame = pd.read_csv(file_path)\n",
    "\n",
    "    # replace the target column with a binary representation\n",
    "    data['tag'] = data['account.type'].replace('human', 0)\n",
    "    data['tag'] = data['tag'].replace('bot', 1)\n",
    "    # Only keep columns text and tag\n",
    "    data = data[['text', 'tag']]\n",
    "\n",
    "print(data.head())"
   ]
  },
  {
   "cell_type": "code",
   "execution_count": 22,
   "metadata": {},
   "outputs": [
    {
     "name": "stdout",
     "output_type": "stream",
     "text": [
      "There's a unique place in the pantheon of John Ford films for Wagonmaster, Sergeant Rutledge, and The Sun Shines Bright. It was these three films with no box office names in them that Ford didn't have to tailor the film around the persona of a star being it John Wayne, Henry Fonda, or any of the others he worked with. Not surprising that Ford considered all these as favorites of one kind or another. <br /><br />Ben Johnson and Harry Carey, Jr. a couple of likable cowpokes sign on to guide a Mormon wagon train to a valley in Arizona territory. Along the way they are joined first by a group stranded players from a medicine show and then by a family of outlaws on the run named Clegg. Their stories merge and what happens is the basis of the film's plot.<br /><br />Had Wagonmaster been done even 10 years earlier on the strength of the two performances turned in by Johnson and Carey, both probably would have had substantial careers as B picture cowboys. In the case of Johnson it would have been art imitating life. Johnson was a real rodeo cowboy and came to Hollywood with a string of horses for John Ford to use in Fort Apache. Ford was struck by his presence and the rest is history. <br /><br />But the day of the B western was drawing to a close and Johnson and Carey had great careers as two fine character actors.<br /><br />Ward Bond plays Elder Wiggs leader of the Mormons. Bond is a recent convert though and has trouble remembering to not use some four letter words. But he's the leader because of his strength of character, not his impeccable LDS theology. He turns out to be a wise and compassionate leader.<br /><br />In portraying the Cleggs, Ford only had to reach back four years to his My Darling Clementine. They are the reincarnation of the Clanton gang and pure evil. In fact if Walter Brennan who after My Darling Clementine refused to ever work for Ford again was willing I could easily see him being cast as Shiloh Clegg the head of the family. As it was Charles Kemper did a fine job, this is probably the role he's most noted for. Shortly after this film was done, Kemper was killed in automobile crash. He might very well have worked for Ford in the future.<br /><br />Ford makes the Mormons pacifists here and I don't recall that pacifism was part of LDS doctrine. Nevertheless it works here, the whole idea being that these people who carry no weapons are innocents when dealing with evil people like the Cleggs. It takes some gun toting cowboys to properly dispose of them. I think that this post World War II film is trying to say that pacifism isn't always the best policy. <br /><br />Another carryover from My Darling Clementine is Alan Mowbray playing the same kind of role he did there as head of the medicine show troupe. Part of that troupe is Joanne Dru who's doing another turn as a woman of elastic virtue the same as she did in Red River. Dru used to do so many westerns that she longed to be out of gingham and into some modern fashions.<br /><br />Wagonmaster is great entertainment and I'm willing to wager in the state of Utah it's a pretty popular film.\n",
      "Predicted: 1, Real: 1\n"
     ]
    },
    {
     "name": "stderr",
     "output_type": "stream",
     "text": [
      "c:\\Users\\pablo\\Desktop\\IMAT\\Tercero\\NaturalLanguageProcessing\\rnn_explainability\\env\\lib\\site-packages\\torch\\nn\\modules\\module.py:1520: UserWarning: RNN module weights are not part of single contiguous chunk of memory. This means they need to be compacted at every call, possibly greatly increasing memory usage. To compact weights again call flatten_parameters(). (Triggered internally at C:\\actions-runner\\_work\\pytorch\\pytorch\\builder\\windows\\pytorch\\aten\\src\\ATen\\native\\cudnn\\RNN.cpp:982.)\n",
      "  return forward_call(*args, **kwargs)\n"
     ]
    }
   ],
   "source": [
    "# Test the model with a single text\n",
    "text = data['text'][2]\n",
    "print(text)\n",
    "predicted = predict_single_text(text, model, device)\n",
    "print(f\"Predicted: {predicted}, Real: {data['tag'][0]}\")"
   ]
  },
  {
   "cell_type": "code",
   "execution_count": 23,
   "metadata": {},
   "outputs": [],
   "source": [
    "import random\n",
    "def permutation_importance(text: str, model: torch.nn.Module, n_permutations: int = 100, device: torch.device = device) -> float:\n",
    "    \"\"\"\n",
    "    This function calculates the permutation importance of the classifier_fn function.\n",
    "\n",
    "    Args:\n",
    "        text: text to calculate the permutation importance.\n",
    "\n",
    "    Returns:\n",
    "        The permutation importance of the classifier_fn function.\n",
    "    \"\"\"\n",
    "    \n",
    "    # tokenize the text\n",
    "    tokenized_text: List[str] = tokenize_tweet(text)\n",
    "    \n",
    "    # get the real class\n",
    "    real_class: int = predict_single_text(text, model, device, probability=False, likelihood=False)\n",
    "\n",
    "    # get the permutation importance\n",
    "    importance: float = 0\n",
    "    for _ in range(n_permutations):\n",
    "        # shuffle the text\n",
    "        shuffled_text: List[str] = tokenized_text.copy()\n",
    "        random.shuffle(shuffled_text)\n",
    "        shuffled_text = \" \".join(shuffled_text)\n",
    "\n",
    "        # get the predictions of the shuffled text\n",
    "        shuffled_predictions: float = predict_single_text(shuffled_text, model, device, probability=True)\n",
    "\n",
    "        # update the permutation importance\n",
    "        importance += shuffled_predictions\n",
    "\n",
    "    # calculate the permutation importance\n",
    "    importance /= n_permutations\n",
    "    importance -= real_class\n",
    "\n",
    "    return importance"
   ]
  },
  {
   "cell_type": "code",
   "execution_count": 24,
   "metadata": {},
   "outputs": [
    {
     "name": "stdout",
     "output_type": "stream",
     "text": [
      "Explaining result for: There's a unique place in the pantheon of John Ford films for Wagonmaster, Sergeant Rutledge, and The Sun Shines Bright. It was these three films with no box office names in them that Ford didn't have to tailor the film around the persona of a star being it John Wayne, Henry Fonda, or any of the others he worked with. Not surprising that Ford considered all these as favorites of one kind or another. <br /><br />Ben Johnson and Harry Carey, Jr. a couple of likable cowpokes sign on to guide a Mormon wagon train to a valley in Arizona territory. Along the way they are joined first by a group stranded players from a medicine show and then by a family of outlaws on the run named Clegg. Their stories merge and what happens is the basis of the film's plot.<br /><br />Had Wagonmaster been done even 10 years earlier on the strength of the two performances turned in by Johnson and Carey, both probably would have had substantial careers as B picture cowboys. In the case of Johnson it would have been art imitating life. Johnson was a real rodeo cowboy and came to Hollywood with a string of horses for John Ford to use in Fort Apache. Ford was struck by his presence and the rest is history. <br /><br />But the day of the B western was drawing to a close and Johnson and Carey had great careers as two fine character actors.<br /><br />Ward Bond plays Elder Wiggs leader of the Mormons. Bond is a recent convert though and has trouble remembering to not use some four letter words. But he's the leader because of his strength of character, not his impeccable LDS theology. He turns out to be a wise and compassionate leader.<br /><br />In portraying the Cleggs, Ford only had to reach back four years to his My Darling Clementine. They are the reincarnation of the Clanton gang and pure evil. In fact if Walter Brennan who after My Darling Clementine refused to ever work for Ford again was willing I could easily see him being cast as Shiloh Clegg the head of the family. As it was Charles Kemper did a fine job, this is probably the role he's most noted for. Shortly after this film was done, Kemper was killed in automobile crash. He might very well have worked for Ford in the future.<br /><br />Ford makes the Mormons pacifists here and I don't recall that pacifism was part of LDS doctrine. Nevertheless it works here, the whole idea being that these people who carry no weapons are innocents when dealing with evil people like the Cleggs. It takes some gun toting cowboys to properly dispose of them. I think that this post World War II film is trying to say that pacifism isn't always the best policy. <br /><br />Another carryover from My Darling Clementine is Alan Mowbray playing the same kind of role he did there as head of the medicine show troupe. Part of that troupe is Joanne Dru who's doing another turn as a woman of elastic virtue the same as she did in Red River. Dru used to do so many westerns that she longed to be out of gingham and into some modern fashions.<br /><br />Wagonmaster is great entertainment and I'm willing to wager in the state of Utah it's a pretty popular film.\n",
      "-0.2395237517356873\n"
     ]
    }
   ],
   "source": [
    "\n",
    "class_names = [0, 1]\n",
    "print(f\"Explaining result for: {text}\")\n",
    "result = permutation_importance(text, model)\n",
    "print(result)\n"
   ]
  }
 ],
 "metadata": {
  "kernelspec": {
   "display_name": ".venv",
   "language": "python",
   "name": "python3"
  },
  "language_info": {
   "codemirror_mode": {
    "name": "ipython",
    "version": 3
   },
   "file_extension": ".py",
   "mimetype": "text/x-python",
   "name": "python",
   "nbconvert_exporter": "python",
   "pygments_lexer": "ipython3",
   "version": "3.9.13"
  }
 },
 "nbformat": 4,
 "nbformat_minor": 2
}
