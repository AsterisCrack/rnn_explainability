{
 "cells": [
  {
   "cell_type": "code",
   "execution_count": 79,
   "metadata": {},
   "outputs": [],
   "source": [
    "# Imports\n",
    "import pandas as pd\n",
    "from typing import List\n",
    "\n",
    "from tqdm import tqdm\n",
    "from collections import OrderedDict\n",
    "from termcolor import colored\n",
    "import torch\n",
    "from torch.jit import RecursiveScriptModule\n",
    "\n",
    "\n",
    "# other libraries\n",
    "from typing import Final\n",
    "\n",
    "# Plotting\n",
    "import matplotlib.pyplot as plt\n",
    "import seaborn as sns\n",
    "\n"
   ]
  },
  {
   "cell_type": "code",
   "execution_count": 80,
   "metadata": {},
   "outputs": [],
   "source": [
    "\n",
    "# own modules\n",
    "from src.model_utils import load_model\n",
    "from src.model_utils import predict_single_text\n",
    "from src.model_utils import load_w2v_model\n",
    "from src.model_utils import set_seed\n",
    "from src.RNNModelTrain.data import tokenize_tweet\n"
   ]
  },
  {
   "cell_type": "code",
   "execution_count": 81,
   "metadata": {},
   "outputs": [],
   "source": [
    "# static variables\n",
    "DATA_PATH: Final[str] = \"NLP_Data/data\"\n",
    "MODEL_TYPE: Final[str] = \"IMDB\"  # \"TweepFake\"\n",
    "\n",
    "# set device\n",
    "device = torch.device(\n",
    "    \"cuda\") if torch.cuda.is_available() else torch.device(\"cpu\")\n",
    "set_seed(42)"
   ]
  },
  {
   "cell_type": "code",
   "execution_count": 82,
   "metadata": {},
   "outputs": [],
   "source": [
    "# load the model\n",
    "if MODEL_TYPE == \"IMDB\":\n",
    "    model: RecursiveScriptModule = load_model(\"IMDB_best_model\")\n",
    "else:\n",
    "    model: RecursiveScriptModule = load_model(\"best_model\")\n",
    "    \n",
    "# Load the w2v model\n",
    "w2vec_model = load_w2v_model()"
   ]
  },
  {
   "cell_type": "code",
   "execution_count": 83,
   "metadata": {},
   "outputs": [
    {
     "name": "stdout",
     "output_type": "stream",
     "text": [
      "                                                text  tag\n",
      "0  I first saw The Buddy Holly Story when I was a...    1\n",
      "1  There were so many things wrong with this movi...    0\n",
      "2  There's a unique place in the pantheon of John...    1\n",
      "3  It kicks you in the stomach. There are other f...    1\n",
      "4  To start, I'm not a person to rate movies that...    0\n"
     ]
    }
   ],
   "source": [
    "if MODEL_TYPE == \"IMDB\":\n",
    "    file_path = DATA_PATH + '/test.txt'\n",
    "    data: pd.DataFrame = pd.read_csv(file_path, sep='\\t', header=None)\n",
    "    data.columns = ['text', 'tag']\n",
    "\n",
    "else:\n",
    "    file_path = DATA_PATH + '/test.csv'\n",
    "    data: pd.DataFrame = pd.read_csv(file_path)\n",
    "\n",
    "    # replace the target column with a binary representation\n",
    "    data['tag'] = data['account.type'].replace('human', 0)\n",
    "    data['tag'] = data['tag'].replace('bot', 1)\n",
    "    # Only keep columns text and tag\n",
    "    data = data[['text', 'tag']]\n",
    "\n",
    "print(data.head())"
   ]
  },
  {
   "cell_type": "code",
   "execution_count": 84,
   "metadata": {},
   "outputs": [
    {
     "name": "stdout",
     "output_type": "stream",
     "text": [
      "There's a unique place in the pantheon of John Ford films for Wagonmaster, Sergeant Rutledge, and The Sun Shines Bright. It was these three films with no box office names in them that Ford didn't have to tailor the film around the persona of a star being it John Wayne, Henry Fonda, or any of the others he worked with. Not surprising that Ford considered all these as favorites of one kind or another. <br /><br />Ben Johnson and Harry Carey, Jr. a couple of likable cowpokes sign on to guide a Mormon wagon train to a valley in Arizona territory. Along the way they are joined first by a group stranded players from a medicine show and then by a family of outlaws on the run named Clegg. Their stories merge and what happens is the basis of the film's plot.<br /><br />Had Wagonmaster been done even 10 years earlier on the strength of the two performances turned in by Johnson and Carey, both probably would have had substantial careers as B picture cowboys. In the case of Johnson it would have been art imitating life. Johnson was a real rodeo cowboy and came to Hollywood with a string of horses for John Ford to use in Fort Apache. Ford was struck by his presence and the rest is history. <br /><br />But the day of the B western was drawing to a close and Johnson and Carey had great careers as two fine character actors.<br /><br />Ward Bond plays Elder Wiggs leader of the Mormons. Bond is a recent convert though and has trouble remembering to not use some four letter words. But he's the leader because of his strength of character, not his impeccable LDS theology. He turns out to be a wise and compassionate leader.<br /><br />In portraying the Cleggs, Ford only had to reach back four years to his My Darling Clementine. They are the reincarnation of the Clanton gang and pure evil. In fact if Walter Brennan who after My Darling Clementine refused to ever work for Ford again was willing I could easily see him being cast as Shiloh Clegg the head of the family. As it was Charles Kemper did a fine job, this is probably the role he's most noted for. Shortly after this film was done, Kemper was killed in automobile crash. He might very well have worked for Ford in the future.<br /><br />Ford makes the Mormons pacifists here and I don't recall that pacifism was part of LDS doctrine. Nevertheless it works here, the whole idea being that these people who carry no weapons are innocents when dealing with evil people like the Cleggs. It takes some gun toting cowboys to properly dispose of them. I think that this post World War II film is trying to say that pacifism isn't always the best policy. <br /><br />Another carryover from My Darling Clementine is Alan Mowbray playing the same kind of role he did there as head of the medicine show troupe. Part of that troupe is Joanne Dru who's doing another turn as a woman of elastic virtue the same as she did in Red River. Dru used to do so many westerns that she longed to be out of gingham and into some modern fashions.<br /><br />Wagonmaster is great entertainment and I'm willing to wager in the state of Utah it's a pretty popular film.\n",
      "Predicted: 1, Real: 1\n"
     ]
    },
    {
     "name": "stderr",
     "output_type": "stream",
     "text": [
      "c:\\Users\\pablo\\Desktop\\IMAT\\Tercero\\NaturalLanguageProcessing\\rnn_explainability\\env\\lib\\site-packages\\torch\\nn\\modules\\module.py:1520: UserWarning: RNN module weights are not part of single contiguous chunk of memory. This means they need to be compacted at every call, possibly greatly increasing memory usage. To compact weights again call flatten_parameters(). (Triggered internally at C:\\actions-runner\\_work\\pytorch\\pytorch\\builder\\windows\\pytorch\\aten\\src\\ATen\\native\\cudnn\\RNN.cpp:982.)\n",
      "  return forward_call(*args, **kwargs)\n"
     ]
    }
   ],
   "source": [
    "# Test the model with a single text\n",
    "text = data['text'][2]\n",
    "print(text)\n",
    "predicted = predict_single_text(text, model, device)\n",
    "print(f\"Predicted: {predicted}, Real: {data['tag'][0]}\")"
   ]
  },
  {
   "cell_type": "code",
   "execution_count": 85,
   "metadata": {},
   "outputs": [],
   "source": [
    "def likelihood_permutation_importance(text: str, model: torch.nn.Module, device: torch.device = device) -> dict:\n",
    "    \"\"\"\n",
    "    This function calculates the likelihood permutation importance of each word in the text.\n",
    "\n",
    "    Args:\n",
    "        text: Text to calculate the likelihood permutation importance.\n",
    "        model: Model to use for the predictions.\n",
    "        device: Device to use for the predictions.\n",
    "\n",
    "    Returns:\n",
    "        A dictionary with the likelihood permutation importance of each word in the text.\n",
    "    \"\"\"\n",
    "    \n",
    "    # tokenize the text\n",
    "    tokenized_text: List[str] = tokenize_tweet(text)\n",
    "    \n",
    "    # get the real class\n",
    "    original_prediction: float = predict_single_text(text, model, device, probability=False, likelihood=True)\n",
    "\n",
    "    # Initialize permutation importance dictionary\n",
    "    permutation_importance: dict = {}\n",
    "\n",
    "    # Iterate over each token (word) in the text\n",
    "    for i, token in enumerate(tqdm(tokenized_text, desc=\"Calculating permutation importance\")):\n",
    "        # Initialize importance for current token\n",
    "        token_importance: float = 0\n",
    "\n",
    "        # Iterate over each possible position for the current token\n",
    "        for j in range(len(tokenized_text)):\n",
    "            if j != i:\n",
    "                # Create a copy of tokens with the current token moved to position j\n",
    "                shuffled_tokens: List[str] = tokenized_text.copy()\n",
    "                shuffled_tokens.pop(i)\n",
    "                shuffled_tokens.insert(j, token)\n",
    "\n",
    "                # Join the shuffled tokens back into a text\n",
    "                shuffled_text = ' '.join(shuffled_tokens)\n",
    "\n",
    "                # Get the predictions of the shuffled text\n",
    "                shuffled_predictions: float = predict_single_text(shuffled_text, model, device, probability=False, likelihood=True)\n",
    "\n",
    "                # Accumulate the importance of moving the current token to position j\n",
    "                token_importance += shuffled_predictions - original_prediction\n",
    "\n",
    "        # Store the total importance for the current token\n",
    "        permutation_importance[token] = token_importance\n",
    "\n",
    "    return permutation_importance\n",
    "\n"
   ]
  },
  {
   "cell_type": "code",
   "execution_count": 86,
   "metadata": {},
   "outputs": [
    {
     "name": "stdout",
     "output_type": "stream",
     "text": [
      "Explaining result for: This movie is the best to make me fall asleep. The actors are boring and the story is terrible.\n"
     ]
    },
    {
     "name": "stderr",
     "output_type": "stream",
     "text": [
      "Calculating permutation importance:   0%|          | 0/19 [00:00<?, ?it/s]"
     ]
    },
    {
     "name": "stderr",
     "output_type": "stream",
     "text": [
      "Calculating permutation importance: 100%|██████████| 19/19 [00:00<00:00, 19.12it/s]"
     ]
    },
    {
     "name": "stdout",
     "output_type": "stream",
     "text": [
      "{'This': -0.2852781265974045, 'movie': 0.6799236796796322, 'is': 1.7602088004350662, 'the': 0.6214919090270996, 'best': -0.00284460186958313, 'to': 0.0, 'make': 0.2863539904356003, 'me': 0.35780927538871765, 'fall': 0.1493554711341858, 'asleep.': 0.131251260638237, 'The': 0.14464694261550903, 'actors': 0.4126390963792801, 'are': 0.20403854548931122, 'boring': -0.23779547214508057, 'and': 0.0, 'story': 1.1957293301820755, 'terrible.': 2.3822730481624603}\n"
     ]
    },
    {
     "name": "stderr",
     "output_type": "stream",
     "text": [
      "\n"
     ]
    }
   ],
   "source": [
    "# Now we will test the new method with a text\n",
    "text = \"This movie is the best to make me fall asleep. The actors are boring and the story is terrible.\"\n",
    "print(f\"Explaining result for: {text}\")\n",
    "result = likelihood_permutation_importance(text, model)\n",
    "print(result)"
   ]
  },
  {
   "cell_type": "code",
   "execution_count": 87,
   "metadata": {},
   "outputs": [],
   "source": [
    "def plot_importance(perm_importance: dict, title: str):\n",
    "    \"\"\"\n",
    "    Plots the permutation importance of each word in a text.\n",
    "\n",
    "    Args:\n",
    "        perm_importance: A dictionary with the permutation importance of each word in the text.\n",
    "        title: The title of the plot.\n",
    "    \"\"\"\n",
    "    # Sort the permutation importance by value\n",
    "    perm_importance = OrderedDict(sorted(perm_importance.items(), key=lambda x: x[1], reverse=True))\n",
    "\n",
    "    # Create a dataframe from the permutation importance\n",
    "    df = pd.DataFrame(list(perm_importance.items()), columns=['Word', 'Importance'])\n",
    "    \n",
    "    # Set the color of the bars based on the importance value\n",
    "    colors = ['red' if imp < 0 else 'blue' for imp in df['Importance']]\n",
    "    \n",
    "    # Plot the permutation importance\n",
    "    plt.figure(figsize=(10, 6))\n",
    "    sns.barplot(x='Importance', y='Word', data=df, palette=colors)\n",
    "    plt.title(title)\n",
    "    plt.show()\n"
   ]
  },
  {
   "cell_type": "code",
   "execution_count": 88,
   "metadata": {},
   "outputs": [
    {
     "name": "stderr",
     "output_type": "stream",
     "text": [
      "C:\\Users\\pablo\\AppData\\Local\\Temp\\ipykernel_24840\\865849140.py:20: FutureWarning: \n",
      "\n",
      "Passing `palette` without assigning `hue` is deprecated and will be removed in v0.14.0. Assign the `y` variable to `hue` and set `legend=False` for the same effect.\n",
      "\n",
      "  sns.barplot(x='Importance', y='Word', data=df, palette=colors)\n"
     ]
    },
    {
     "data": {
      "image/png": "[encoded data removed]",
      "text/plain": [
       "<Figure size 1000x600 with 1 Axes>"
      ]
     },
     "metadata": {},
     "output_type": "display_data"
    }
   ],
   "source": [
    "plot_importance(result, \"Permutation Importance of each word in the text\")"
   ]
  },
  {
   "cell_type": "code",
   "execution_count": 89,
   "metadata": {},
   "outputs": [],
   "source": [
    "def likelihood_importance(text: str, model: torch.nn.Module, device: torch.device = device) -> dict:\n",
    "    \"\"\"\n",
    "    This function calculates the likelihood importance of each word in the text.\n",
    "    Instead of changing the order of the words, it will remove one word at a time \n",
    "    and calculate the importance.\n",
    "\n",
    "    Args:\n",
    "        text: Text to calculate the likelihood importance.\n",
    "        model: Model to use for the predictions.\n",
    "        device: Device to use for the predictions.\n",
    "\n",
    "    Returns:\n",
    "        A dictionary with the likelihood importance of each word in the text.\n",
    "    \"\"\"\n",
    "    \n",
    "    # Get the initial class assigned to the text\n",
    "    original_prediction = predict_single_text(text, model, device, probability=False, likelihood=True)\n",
    "    \n",
    "    # Initialize importance dictionary\n",
    "    importance:dict = {}\n",
    "    \n",
    "    # tokenize the text\n",
    "    tokenized_text: List[str] = tokenize_tweet(text)\n",
    "    \n",
    "    # Iterate over each token (word) in the text\n",
    "    for i, token in enumerate(tqdm(tokenized_text, desc=\"Calculating likelihood importance\")):\n",
    "        # Create a copy of tokens without the current token\n",
    "        remaining_tokens = list(tokenized_text)\n",
    "        remaining_tokens.pop(i)\n",
    "        \n",
    "        # Join the remaining tokens back into a text\n",
    "        remaining_text = ' '.join(remaining_tokens)\n",
    "        \n",
    "        # Get the predictions of the remaining text\n",
    "        remaining_predictions = predict_single_text(remaining_text, model, device, probability=False, likelihood=True)\n",
    "        \n",
    "        # Store the importance of removing the current token\n",
    "        importance[token] = original_prediction - remaining_predictions\n",
    "        \n",
    "    return importance\n",
    "\n",
    "    "
   ]
  },
  {
   "cell_type": "code",
   "execution_count": 90,
   "metadata": {},
   "outputs": [
    {
     "name": "stderr",
     "output_type": "stream",
     "text": [
      "c:\\Users\\pablo\\Desktop\\IMAT\\Tercero\\NaturalLanguageProcessing\\rnn_explainability\\env\\lib\\site-packages\\torch\\nn\\modules\\module.py:1520: UserWarning: RNN module weights are not part of single contiguous chunk of memory. This means they need to be compacted at every call, possibly greatly increasing memory usage. To compact weights again call flatten_parameters(). (Triggered internally at C:\\actions-runner\\_work\\pytorch\\pytorch\\builder\\windows\\pytorch\\aten\\src\\ATen\\native\\cudnn\\RNN.cpp:982.)\n",
      "  return forward_call(*args, **kwargs)\n"
     ]
    },
    {
     "name": "stdout",
     "output_type": "stream",
     "text": [
      "Explaining result for: This movie is the best to make me fall asleep. The actors are boring and the story is terrible.\n"
     ]
    },
    {
     "name": "stderr",
     "output_type": "stream",
     "text": [
      "Calculating likelihood importance: 100%|██████████| 19/19 [00:00<00:00, 348.57it/s]"
     ]
    },
    {
     "name": "stdout",
     "output_type": "stream",
     "text": [
      "{'This': 0.12171554565429688, 'movie': -0.09090867638587952, 'is': -0.07125908136367798, 'the': -0.0184134840965271, 'best': 0.2511288821697235, 'to': 0.0, 'make': -0.009645015001296997, 'me': 0.0049659013748168945, 'fall': -0.051057666540145874, 'asleep.': -0.1088407039642334, 'The': 0.06946977972984314, 'actors': 0.01805335283279419, 'are': 0.024305492639541626, 'boring': -0.21136237680912018, 'and': 0.0, 'story': 0.027379900217056274, 'terrible.': -0.4129266329109669}\n"
     ]
    },
    {
     "name": "stderr",
     "output_type": "stream",
     "text": [
      "\n"
     ]
    }
   ],
   "source": [
    "# Now we will test the new method with the same text as before.\n",
    "text = \"This movie is the best to make me fall asleep. The actors are boring and the story is terrible.\"\n",
    "print(f\"Explaining result for: {text}\")\n",
    "result = likelihood_importance(text, model)\n",
    "print(result)\n"
   ]
  },
  {
   "cell_type": "code",
   "execution_count": 91,
   "metadata": {},
   "outputs": [
    {
     "name": "stderr",
     "output_type": "stream",
     "text": [
      "C:\\Users\\pablo\\AppData\\Local\\Temp\\ipykernel_24840\\865849140.py:20: FutureWarning: \n",
      "\n",
      "Passing `palette` without assigning `hue` is deprecated and will be removed in v0.14.0. Assign the `y` variable to `hue` and set `legend=False` for the same effect.\n",
      "\n",
      "  sns.barplot(x='Importance', y='Word', data=df, palette=colors)\n"
     ]
    },
    {
     "data": {
      "image/png": "[encoded data removed]",
      "text/plain": [
       "<Figure size 1000x600 with 1 Axes>"
      ]
     },
     "metadata": {},
     "output_type": "display_data"
    }
   ],
   "source": [
    "# Now we will plot the results\n",
    "plot_importance(result, \"Likelihood Importance of each word in the text\")\n"
   ]
  },
  {
   "cell_type": "code",
   "execution_count": 92,
   "metadata": {},
   "outputs": [
    {
     "name": "stdout",
     "output_type": "stream",
     "text": [
      "\u001b[34mThis\u001b[0m \u001b[31mmovie\u001b[0m \u001b[31mis\u001b[0m \u001b[31mthe\u001b[0m \u001b[34mbest\u001b[0m \u001b[34mto\u001b[0m \u001b[31mmake\u001b[0m \u001b[34mme\u001b[0m \u001b[31mfall\u001b[0m \u001b[31masleep.\u001b[0m \u001b[34mThe\u001b[0m \u001b[34mactors\u001b[0m \u001b[34mare\u001b[0m \u001b[31mboring\u001b[0m \u001b[34mand\u001b[0m \u001b[31mthe\u001b[0m \u001b[34mstory\u001b[0m \u001b[31mis\u001b[0m \u001b[31mterrible.\u001b[0m \n"
     ]
    }
   ],
   "source": [
    "\n",
    "def print_colored_text(text: str, importance: dict):\n",
    "    \"\"\"\n",
    "    Prints the text with each word colored based on its importance.\n",
    "\n",
    "    Args:\n",
    "        text: The text to print.\n",
    "        importance: A dictionary with the importance of each word in the text.\n",
    "    \"\"\"\n",
    "    # Tokenize the text\n",
    "    tokens = tokenize_tweet(text)\n",
    "    \n",
    "    # Iterate over each token (word) in the text\n",
    "    for token in tokens:\n",
    "        # Get the importance of the current token\n",
    "        token_importance = importance.get(token, 0)\n",
    "        \n",
    "        # Set the color of the token based on its importance\n",
    "        color = 'red' if token_importance < 0 else 'blue'\n",
    "        \n",
    "        # Print the token with the corresponding color\n",
    "        print(colored(token, color), end=' ')\n",
    "        \n",
    "    print()\n",
    "\n",
    "print_colored_text(text, result)"
   ]
  }
 ],
 "metadata": {
  "kernelspec": {
   "display_name": ".venv",
   "language": "python",
   "name": "python3"
  },
  "language_info": {
   "codemirror_mode": {
    "name": "ipython",
    "version": 3
   },
   "file_extension": ".py",
   "mimetype": "text/x-python",
   "name": "python",
   "nbconvert_exporter": "python",
   "pygments_lexer": "ipython3",
   "version": "3.9.13"
  }
 },
 "nbformat": 4,
 "nbformat_minor": 2
}
