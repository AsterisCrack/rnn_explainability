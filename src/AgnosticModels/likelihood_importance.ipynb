{
 "cells": [
  {
   "cell_type": "code",
   "execution_count": 15,
   "metadata": {},
   "outputs": [],
   "source": [
    "# Imports\n",
    "import numpy as np\n",
    "import pandas as pd\n",
    "from typing import List\n",
    "import re\n",
    "from tqdm import tqdm\n",
    "from collections import OrderedDict\n",
    "from termcolor import colored\n",
    "import torch\n",
    "from torch.jit import RecursiveScriptModule\n",
    "\n",
    "\n",
    "# other libraries\n",
    "from typing import Final\n",
    "\n",
    "# Plotting\n",
    "import matplotlib.pyplot as plt\n",
    "import seaborn as sns\n",
    "\n"
   ]
  },
  {
   "cell_type": "code",
   "execution_count": 16,
   "metadata": {},
   "outputs": [],
   "source": [
    "\n",
    "# own modules\n",
    "from src.model_utils import load_model\n",
    "from src.model_utils import predict_single_text\n",
    "from src.model_utils import predict_multiple_text\n",
    "from src.model_utils import load_w2v_model\n",
    "from src.model_utils import set_seed\n",
    "from src.RNNModelTrain.data import tokenize_tweet\n"
   ]
  },
  {
   "cell_type": "code",
   "execution_count": 17,
   "metadata": {},
   "outputs": [],
   "source": [
    "# static variables\n",
    "DATA_PATH: Final[str] = \"NLP_Data/data\"\n",
    "MODEL_TYPE: Final[str] = \"IMDB\"  # \"TweepFake\"\n",
    "\n",
    "# set device\n",
    "device = torch.device(\n",
    "    \"cuda\") if torch.cuda.is_available() else torch.device(\"cpu\")\n",
    "set_seed(42)"
   ]
  },
  {
   "cell_type": "code",
   "execution_count": 18,
   "metadata": {},
   "outputs": [],
   "source": [
    "# load the model\n",
    "if MODEL_TYPE == \"IMDB\":\n",
    "    model: RecursiveScriptModule = load_model(\"IMDB_best_model\")\n",
    "else:\n",
    "    model: RecursiveScriptModule = load_model(\"best_model\")\n",
    "    \n",
    "# Load the w2v model\n",
    "w2vec_model = load_w2v_model()"
   ]
  },
  {
   "cell_type": "code",
   "execution_count": 19,
   "metadata": {},
   "outputs": [
    {
     "name": "stdout",
     "output_type": "stream",
     "text": [
      "                                                text  tag\n",
      "0  I first saw The Buddy Holly Story when I was a...    1\n",
      "1  There were so many things wrong with this movi...    0\n",
      "2  There's a unique place in the pantheon of John...    1\n",
      "3  It kicks you in the stomach. There are other f...    1\n",
      "4  To start, I'm not a person to rate movies that...    0\n"
     ]
    }
   ],
   "source": [
    "if MODEL_TYPE == \"IMDB\":\n",
    "    file_path = DATA_PATH + '/test.txt'\n",
    "    data: pd.DataFrame = pd.read_csv(file_path, sep='\\t', header=None)\n",
    "    data.columns = ['text', 'tag']\n",
    "\n",
    "else:\n",
    "    file_path = DATA_PATH + '/test.csv'\n",
    "    data: pd.DataFrame = pd.read_csv(file_path)\n",
    "\n",
    "    # replace the target column with a binary representation\n",
    "    data['tag'] = data['account.type'].replace('human', 0)\n",
    "    data['tag'] = data['tag'].replace('bot', 1)\n",
    "    # Only keep columns text and tag\n",
    "    data = data[['text', 'tag']]\n",
    "\n",
    "print(data.head())"
   ]
  },
  {
   "cell_type": "code",
   "execution_count": 20,
   "metadata": {},
   "outputs": [
    {
     "name": "stdout",
     "output_type": "stream",
     "text": [
      "There's a unique place in the pantheon of John Ford films for Wagonmaster, Sergeant Rutledge, and The Sun Shines Bright. It was these three films with no box office names in them that Ford didn't have to tailor the film around the persona of a star being it John Wayne, Henry Fonda, or any of the others he worked with. Not surprising that Ford considered all these as favorites of one kind or another. <br /><br />Ben Johnson and Harry Carey, Jr. a couple of likable cowpokes sign on to guide a Mormon wagon train to a valley in Arizona territory. Along the way they are joined first by a group stranded players from a medicine show and then by a family of outlaws on the run named Clegg. Their stories merge and what happens is the basis of the film's plot.<br /><br />Had Wagonmaster been done even 10 years earlier on the strength of the two performances turned in by Johnson and Carey, both probably would have had substantial careers as B picture cowboys. In the case of Johnson it would have been art imitating life. Johnson was a real rodeo cowboy and came to Hollywood with a string of horses for John Ford to use in Fort Apache. Ford was struck by his presence and the rest is history. <br /><br />But the day of the B western was drawing to a close and Johnson and Carey had great careers as two fine character actors.<br /><br />Ward Bond plays Elder Wiggs leader of the Mormons. Bond is a recent convert though and has trouble remembering to not use some four letter words. But he's the leader because of his strength of character, not his impeccable LDS theology. He turns out to be a wise and compassionate leader.<br /><br />In portraying the Cleggs, Ford only had to reach back four years to his My Darling Clementine. They are the reincarnation of the Clanton gang and pure evil. In fact if Walter Brennan who after My Darling Clementine refused to ever work for Ford again was willing I could easily see him being cast as Shiloh Clegg the head of the family. As it was Charles Kemper did a fine job, this is probably the role he's most noted for. Shortly after this film was done, Kemper was killed in automobile crash. He might very well have worked for Ford in the future.<br /><br />Ford makes the Mormons pacifists here and I don't recall that pacifism was part of LDS doctrine. Nevertheless it works here, the whole idea being that these people who carry no weapons are innocents when dealing with evil people like the Cleggs. It takes some gun toting cowboys to properly dispose of them. I think that this post World War II film is trying to say that pacifism isn't always the best policy. <br /><br />Another carryover from My Darling Clementine is Alan Mowbray playing the same kind of role he did there as head of the medicine show troupe. Part of that troupe is Joanne Dru who's doing another turn as a woman of elastic virtue the same as she did in Red River. Dru used to do so many westerns that she longed to be out of gingham and into some modern fashions.<br /><br />Wagonmaster is great entertainment and I'm willing to wager in the state of Utah it's a pretty popular film.\n",
      "Predicted: 1, Real: 1\n"
     ]
    }
   ],
   "source": [
    "# Test the model with a single text\n",
    "text = data['text'][2]\n",
    "print(text)\n",
    "predicted = predict_single_text(text, model, device)\n",
    "print(f\"Predicted: {predicted}, Real: {data['tag'][0]}\")"
   ]
  },
  {
   "cell_type": "code",
   "execution_count": 21,
   "metadata": {},
   "outputs": [],
   "source": [
    "def likelihood_permutation_importance(text):\n",
    "    \"\"\"\n",
    "    This function calculates the likelihood permutation importance of each word in the text.\n",
    "\n",
    "    Args:\n",
    "        text: Text to calculate the likelihood permutation importance.\n",
    "\n",
    "    Returns:\n",
    "        A dictionary with the likelihood permutation importance of each word in the text.\n",
    "    \"\"\"\n",
    "    \n",
    "    # Tokenize the text\n",
    "    tokens = tokenize_tweet(text)\n",
    "\n",
    "    # Get the predictions of the text\n",
    "    predictions = predict_single_text(text, model, device, probability=False, likelihood=True)\n",
    "\n",
    "    # Get the initial class \n",
    "    real_class = predict_single_text(text, model, device, probability=False, likelihood=False)\n",
    "\n",
    "    # Initialize permutation importance dictionary\n",
    "    permutation_importance = {}\n",
    "\n",
    "    # Iterate over each token (word) in the text\n",
    "    for i, token in enumerate(tqdm(tokens, desc=\"Calculating permutation importance\")):\n",
    "        # Initialize importance for current token\n",
    "        token_importance = 0\n",
    "\n",
    "        # Iterate over each possible position for the current token\n",
    "        for j in range(len(tokens)):\n",
    "            if j != i:\n",
    "                # Create a copy of tokens with the current token moved to position j\n",
    "                shuffled_tokens = list(tokens)\n",
    "                shuffled_tokens.pop(i)\n",
    "                shuffled_tokens.insert(j, token)\n",
    "\n",
    "                # Join the shuffled tokens back into a text\n",
    "                shuffled_text = ' '.join(shuffled_tokens)\n",
    "\n",
    "                # Get the predictions of the shuffled text\n",
    "                shuffled_predictions = predict_single_text(shuffled_text, model, device, probability=False, likelihood=True)\n",
    "\n",
    "                # Accumulate the importance of moving the current token to position j\n",
    "                token_importance += shuffled_predictions - real_class\n",
    "\n",
    "        # Store the total importance for the current token\n",
    "        permutation_importance[token] = token_importance\n",
    "\n",
    "    return permutation_importance\n",
    "\n"
   ]
  },
  {
   "cell_type": "code",
   "execution_count": 22,
   "metadata": {},
   "outputs": [
    {
     "name": "stdout",
     "output_type": "stream",
     "text": [
      "Explaining result for: This movie is the best to make me fall asleep. The actors are boring and the story is terrible.\n"
     ]
    },
    {
     "name": "stderr",
     "output_type": "stream",
     "text": [
      "Calculating permutation importance:   0%|          | 0/19 [00:00<?, ?it/s]"
     ]
    },
    {
     "name": "stderr",
     "output_type": "stream",
     "text": [
      "Calculating permutation importance: 100%|██████████| 19/19 [00:00<00:00, 57.39it/s]"
     ]
    },
    {
     "name": "stdout",
     "output_type": "stream",
     "text": [
      "{'This': 1.2223246935755014, 'movie': 2.0408530235290527, 'is': 1.6247805245220661, 'the': 1.3280500061810017, 'best': 0.6293111275881529, 'to': 1.8331556171178818, 'make': 1.4501186292618513, 'me': 1.2459636516869068, 'fall': 1.159095611423254, 'asleep.': 1.8331556171178818, 'The': 1.1967607140541077, 'actors': 1.7861658968031406, 'are': 1.4190054032951593, 'boring': 0.32325794361531734, 'and': 1.8331556171178818, 'story': 2.2170826718211174, 'terrible.': 1.8331556171178818}\n"
     ]
    },
    {
     "name": "stderr",
     "output_type": "stream",
     "text": [
      "\n"
     ]
    }
   ],
   "source": [
    "# Now we will test the new method with a text\n",
    "text = \"This movie is the best to make me fall asleep. The actors are boring and the story is terrible.\"\n",
    "print(f\"Explaining result for: {text}\")\n",
    "result = likelihood_permutation_importance(text)\n",
    "print(result)"
   ]
  },
  {
   "cell_type": "code",
   "execution_count": 23,
   "metadata": {},
   "outputs": [],
   "source": [
    "def plot_importance(perm_importance: dict, title: str):\n",
    "    \"\"\"\n",
    "    Plots the permutation importance of each word in a text.\n",
    "\n",
    "    Args:\n",
    "        perm_importance: A dictionary with the permutation importance of each word in the text.\n",
    "        title: The title of the plot.\n",
    "    \"\"\"\n",
    "    # Sort the permutation importance by value\n",
    "    perm_importance = OrderedDict(sorted(perm_importance.items(), key=lambda x: x[1], reverse=True))\n",
    "\n",
    "    # Create a dataframe from the permutation importance\n",
    "    df = pd.DataFrame(list(perm_importance.items()), columns=['Word', 'Importance'])\n",
    "    \n",
    "    # Set the color of the bars based on the importance value\n",
    "    colors = ['red' if imp < 0 else 'blue' for imp in df['Importance']]\n",
    "    \n",
    "    # Plot the permutation importance\n",
    "    plt.figure(figsize=(10, 6))\n",
    "    sns.barplot(x='Importance', y='Word', data=df, palette=colors)\n",
    "    plt.title(title)\n",
    "    plt.show()\n"
   ]
  },
  {
   "cell_type": "code",
   "execution_count": 24,
   "metadata": {},
   "outputs": [
    {
     "name": "stderr",
     "output_type": "stream",
     "text": [
      "C:\\Users\\anton\\AppData\\Local\\Temp\\ipykernel_17864\\865849140.py:20: FutureWarning: \n",
      "\n",
      "Passing `palette` without assigning `hue` is deprecated and will be removed in v0.14.0. Assign the `y` variable to `hue` and set `legend=False` for the same effect.\n",
      "\n",
      "  sns.barplot(x='Importance', y='Word', data=df, palette=colors)\n"
     ]
    },
    {
     "data": {
      "image/png": "[encoded data removed]",
      "text/plain": [
       "<Figure size 1000x600 with 1 Axes>"
      ]
     },
     "metadata": {},
     "output_type": "display_data"
    }
   ],
   "source": [
    "plot_importance(result, \"Permutation Importance of each word in the text\")"
   ]
  },
  {
   "cell_type": "code",
   "execution_count": 25,
   "metadata": {},
   "outputs": [],
   "source": [
    "def likelihood_importance(text):\n",
    "    \"\"\"\n",
    "    This function calculates the likelihood importance of each word in the text.\n",
    "    Instead of changing the order of the words, it will remove one word at a time \n",
    "    and calculate the importance.\n",
    "\n",
    "    Args:\n",
    "        text: Text to calculate the likelihood importance.\n",
    "\n",
    "    Returns:\n",
    "        A dictionary with the likelihood importance of each word in the text.\n",
    "    \"\"\"\n",
    "    \n",
    "    # Get the predictions of the predictor\n",
    "    predictions = predict_single_text(text, model, device, probability=False, likelihood=True)\n",
    "\n",
    "    # Get the initial class assigned to the text\n",
    "    initial_class = predict_single_text(text, model, device, probability=False, likelihood=False)\n",
    "    \n",
    "    # Initialize importance dictionary\n",
    "    importance = {}\n",
    "    \n",
    "    # Tokenize the text\n",
    "    tokens = tokenize_tweet(text)\n",
    "    \n",
    "    # Iterate over each token (word) in the text\n",
    "    for i, token in enumerate(tqdm(tokens, desc=\"Calculating likelihood importance\")):\n",
    "        # Create a copy of tokens without the current token\n",
    "        remaining_tokens = list(tokens)\n",
    "        remaining_tokens.pop(i)\n",
    "        \n",
    "        # Join the remaining tokens back into a text\n",
    "        remaining_text = ' '.join(remaining_tokens)\n",
    "        \n",
    "        # Get the predictions of the remaining text\n",
    "        remaining_predictions = predict_single_text(remaining_text, model, device, probability=False, likelihood=True)\n",
    "        \n",
    "        # Store the importance of removing the current token\n",
    "        importance[token] = initial_class - remaining_predictions\n",
    "        \n",
    "    return importance\n",
    "\n",
    "    "
   ]
  },
  {
   "cell_type": "code",
   "execution_count": 26,
   "metadata": {},
   "outputs": [
    {
     "name": "stdout",
     "output_type": "stream",
     "text": [
      "Explaining result for: This movie is the best to make me fall asleep. The actors are boring and the story is terrible.\n"
     ]
    },
    {
     "name": "stderr",
     "output_type": "stream",
     "text": [
      "Calculating likelihood importance: 100%|██████████| 19/19 [00:00<00:00, 222.74it/s]"
     ]
    },
    {
     "name": "stdout",
     "output_type": "stream",
     "text": [
      "{'This': -0.032733701169490814, 'movie': -0.16526784002780914, 'is': -0.03257960453629494, 'the': -0.10266585648059845, 'best': 0.44184938073158264, 'to': -0.10184197872877121, 'make': -0.08048074692487717, 'me': 0.09503406286239624, 'fall': -0.2536081075668335, 'asleep.': -0.10184197872877121, 'The': -0.1914442479610443, 'actors': -0.07862589508295059, 'are': -0.18188068270683289, 'boring': -0.5764355063438416, 'and': -0.10184197872877121, 'story': 0.1680506020784378, 'terrible.': -0.10184197872877121}\n"
     ]
    },
    {
     "name": "stderr",
     "output_type": "stream",
     "text": [
      "\n"
     ]
    }
   ],
   "source": [
    "# Now we will test the new method with the same text as before.\n",
    "text = \"This movie is the best to make me fall asleep. The actors are boring and the story is terrible.\"\n",
    "print(f\"Explaining result for: {text}\")\n",
    "result = likelihood_importance(text)\n",
    "print(result)\n"
   ]
  },
  {
   "cell_type": "code",
   "execution_count": 27,
   "metadata": {},
   "outputs": [
    {
     "name": "stderr",
     "output_type": "stream",
     "text": [
      "C:\\Users\\anton\\AppData\\Local\\Temp\\ipykernel_17864\\865849140.py:20: FutureWarning: \n",
      "\n",
      "Passing `palette` without assigning `hue` is deprecated and will be removed in v0.14.0. Assign the `y` variable to `hue` and set `legend=False` for the same effect.\n",
      "\n",
      "  sns.barplot(x='Importance', y='Word', data=df, palette=colors)\n"
     ]
    },
    {
     "data": {
      "image/png": "[encoded data removed]",
      "text/plain": [
       "<Figure size 1000x600 with 1 Axes>"
      ]
     },
     "metadata": {},
     "output_type": "display_data"
    }
   ],
   "source": [
    "# Now we will plot the results\n",
    "plot_importance(result, \"Likelihood Importance of each word in the text\")\n"
   ]
  },
  {
   "cell_type": "code",
   "execution_count": 28,
   "metadata": {},
   "outputs": [
    {
     "name": "stdout",
     "output_type": "stream",
     "text": [
      "\u001b[31mThis\u001b[0m \u001b[31mmovie\u001b[0m \u001b[31mis\u001b[0m \u001b[31mthe\u001b[0m \u001b[34mbest\u001b[0m \u001b[31mto\u001b[0m \u001b[31mmake\u001b[0m \u001b[34mme\u001b[0m \u001b[31mfall\u001b[0m \u001b[31masleep.\u001b[0m \u001b[31mThe\u001b[0m \u001b[31mactors\u001b[0m \u001b[31mare\u001b[0m \u001b[31mboring\u001b[0m \u001b[31mand\u001b[0m \u001b[31mthe\u001b[0m \u001b[34mstory\u001b[0m \u001b[31mis\u001b[0m \u001b[31mterrible.\u001b[0m \n"
     ]
    }
   ],
   "source": [
    "\n",
    "def print_colored_text(text: str, importance: dict):\n",
    "    \"\"\"\n",
    "    Prints the text with each word colored based on its importance.\n",
    "\n",
    "    Args:\n",
    "        text: The text to print.\n",
    "        importance: A dictionary with the importance of each word in the text.\n",
    "    \"\"\"\n",
    "    # Tokenize the text\n",
    "    tokens = tokenize_tweet(text)\n",
    "    \n",
    "    # Iterate over each token (word) in the text\n",
    "    for token in tokens:\n",
    "        # Get the importance of the current token\n",
    "        token_importance = importance.get(token, 0)\n",
    "        \n",
    "        # Set the color of the token based on its importance\n",
    "        color = 'red' if token_importance < 0 else 'blue'\n",
    "        \n",
    "        # Print the token with the corresponding color\n",
    "        print(colored(token, color), end=' ')\n",
    "        \n",
    "    print()\n",
    "\n",
    "print_colored_text(text, result)"
   ]
  }
 ],
 "metadata": {
  "kernelspec": {
   "display_name": ".venv",
   "language": "python",
   "name": "python3"
  },
  "language_info": {
   "codemirror_mode": {
    "name": "ipython",
    "version": 3
   },
   "file_extension": ".py",
   "mimetype": "text/x-python",
   "name": "python",
   "nbconvert_exporter": "python",
   "pygments_lexer": "ipython3",
   "version": "3.12.2"
  }
 },
 "nbformat": 4,
 "nbformat_minor": 2
}
